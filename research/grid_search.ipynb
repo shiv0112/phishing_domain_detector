{
 "cells": [
  {
   "cell_type": "code",
   "execution_count": 1,
   "metadata": {},
   "outputs": [],
   "source": [
    "import numpy as np\n",
    "import pandas as pd\n",
    "import seaborn as sns\n",
    "import matplotlib.pyplot as plt\n",
    "import warnings\n",
    "\n",
    "warnings.filterwarnings('ignore')"
   ]
  },
  {
   "cell_type": "code",
   "execution_count": 2,
   "metadata": {},
   "outputs": [],
   "source": [
    "data = pd.read_csv('../data/dataset_full.csv')"
   ]
  },
  {
   "cell_type": "code",
   "execution_count": 3,
   "metadata": {},
   "outputs": [
    {
     "data": {
      "text/html": [
       "<div>\n",
       "<style scoped>\n",
       "    .dataframe tbody tr th:only-of-type {\n",
       "        vertical-align: middle;\n",
       "    }\n",
       "\n",
       "    .dataframe tbody tr th {\n",
       "        vertical-align: top;\n",
       "    }\n",
       "\n",
       "    .dataframe thead th {\n",
       "        text-align: right;\n",
       "    }\n",
       "</style>\n",
       "<table border=\"1\" class=\"dataframe\">\n",
       "  <thead>\n",
       "    <tr style=\"text-align: right;\">\n",
       "      <th></th>\n",
       "      <th>qty_dot_url</th>\n",
       "      <th>qty_hyphen_url</th>\n",
       "      <th>qty_underline_url</th>\n",
       "      <th>qty_slash_url</th>\n",
       "      <th>qty_questionmark_url</th>\n",
       "      <th>qty_equal_url</th>\n",
       "      <th>qty_at_url</th>\n",
       "      <th>qty_and_url</th>\n",
       "      <th>qty_exclamation_url</th>\n",
       "      <th>qty_space_url</th>\n",
       "      <th>...</th>\n",
       "      <th>qty_ip_resolved</th>\n",
       "      <th>qty_nameservers</th>\n",
       "      <th>qty_mx_servers</th>\n",
       "      <th>ttl_hostname</th>\n",
       "      <th>tls_ssl_certificate</th>\n",
       "      <th>qty_redirects</th>\n",
       "      <th>url_google_index</th>\n",
       "      <th>domain_google_index</th>\n",
       "      <th>url_shortened</th>\n",
       "      <th>phishing</th>\n",
       "    </tr>\n",
       "  </thead>\n",
       "  <tbody>\n",
       "    <tr>\n",
       "      <th>0</th>\n",
       "      <td>3</td>\n",
       "      <td>0</td>\n",
       "      <td>0</td>\n",
       "      <td>1</td>\n",
       "      <td>0</td>\n",
       "      <td>0</td>\n",
       "      <td>0</td>\n",
       "      <td>0</td>\n",
       "      <td>0</td>\n",
       "      <td>0</td>\n",
       "      <td>...</td>\n",
       "      <td>1</td>\n",
       "      <td>2</td>\n",
       "      <td>0</td>\n",
       "      <td>892</td>\n",
       "      <td>0</td>\n",
       "      <td>0</td>\n",
       "      <td>0</td>\n",
       "      <td>0</td>\n",
       "      <td>0</td>\n",
       "      <td>1</td>\n",
       "    </tr>\n",
       "    <tr>\n",
       "      <th>1</th>\n",
       "      <td>5</td>\n",
       "      <td>0</td>\n",
       "      <td>1</td>\n",
       "      <td>3</td>\n",
       "      <td>0</td>\n",
       "      <td>3</td>\n",
       "      <td>0</td>\n",
       "      <td>2</td>\n",
       "      <td>0</td>\n",
       "      <td>0</td>\n",
       "      <td>...</td>\n",
       "      <td>1</td>\n",
       "      <td>2</td>\n",
       "      <td>1</td>\n",
       "      <td>9540</td>\n",
       "      <td>1</td>\n",
       "      <td>0</td>\n",
       "      <td>0</td>\n",
       "      <td>0</td>\n",
       "      <td>0</td>\n",
       "      <td>1</td>\n",
       "    </tr>\n",
       "    <tr>\n",
       "      <th>2</th>\n",
       "      <td>2</td>\n",
       "      <td>0</td>\n",
       "      <td>0</td>\n",
       "      <td>1</td>\n",
       "      <td>0</td>\n",
       "      <td>0</td>\n",
       "      <td>0</td>\n",
       "      <td>0</td>\n",
       "      <td>0</td>\n",
       "      <td>0</td>\n",
       "      <td>...</td>\n",
       "      <td>1</td>\n",
       "      <td>2</td>\n",
       "      <td>3</td>\n",
       "      <td>589</td>\n",
       "      <td>1</td>\n",
       "      <td>0</td>\n",
       "      <td>0</td>\n",
       "      <td>0</td>\n",
       "      <td>0</td>\n",
       "      <td>0</td>\n",
       "    </tr>\n",
       "    <tr>\n",
       "      <th>3</th>\n",
       "      <td>4</td>\n",
       "      <td>0</td>\n",
       "      <td>2</td>\n",
       "      <td>5</td>\n",
       "      <td>0</td>\n",
       "      <td>0</td>\n",
       "      <td>0</td>\n",
       "      <td>0</td>\n",
       "      <td>0</td>\n",
       "      <td>0</td>\n",
       "      <td>...</td>\n",
       "      <td>1</td>\n",
       "      <td>2</td>\n",
       "      <td>0</td>\n",
       "      <td>292</td>\n",
       "      <td>1</td>\n",
       "      <td>0</td>\n",
       "      <td>0</td>\n",
       "      <td>0</td>\n",
       "      <td>0</td>\n",
       "      <td>1</td>\n",
       "    </tr>\n",
       "    <tr>\n",
       "      <th>4</th>\n",
       "      <td>2</td>\n",
       "      <td>0</td>\n",
       "      <td>0</td>\n",
       "      <td>0</td>\n",
       "      <td>0</td>\n",
       "      <td>0</td>\n",
       "      <td>0</td>\n",
       "      <td>0</td>\n",
       "      <td>0</td>\n",
       "      <td>0</td>\n",
       "      <td>...</td>\n",
       "      <td>1</td>\n",
       "      <td>2</td>\n",
       "      <td>1</td>\n",
       "      <td>3597</td>\n",
       "      <td>0</td>\n",
       "      <td>1</td>\n",
       "      <td>0</td>\n",
       "      <td>0</td>\n",
       "      <td>0</td>\n",
       "      <td>0</td>\n",
       "    </tr>\n",
       "  </tbody>\n",
       "</table>\n",
       "<p>5 rows × 112 columns</p>\n",
       "</div>"
      ],
      "text/plain": [
       "   qty_dot_url  qty_hyphen_url  qty_underline_url  qty_slash_url  \\\n",
       "0            3               0                  0              1   \n",
       "1            5               0                  1              3   \n",
       "2            2               0                  0              1   \n",
       "3            4               0                  2              5   \n",
       "4            2               0                  0              0   \n",
       "\n",
       "   qty_questionmark_url  qty_equal_url  qty_at_url  qty_and_url  \\\n",
       "0                     0              0           0            0   \n",
       "1                     0              3           0            2   \n",
       "2                     0              0           0            0   \n",
       "3                     0              0           0            0   \n",
       "4                     0              0           0            0   \n",
       "\n",
       "   qty_exclamation_url  qty_space_url  ...  qty_ip_resolved  qty_nameservers  \\\n",
       "0                    0              0  ...                1                2   \n",
       "1                    0              0  ...                1                2   \n",
       "2                    0              0  ...                1                2   \n",
       "3                    0              0  ...                1                2   \n",
       "4                    0              0  ...                1                2   \n",
       "\n",
       "   qty_mx_servers  ttl_hostname  tls_ssl_certificate  qty_redirects  \\\n",
       "0               0           892                    0              0   \n",
       "1               1          9540                    1              0   \n",
       "2               3           589                    1              0   \n",
       "3               0           292                    1              0   \n",
       "4               1          3597                    0              1   \n",
       "\n",
       "   url_google_index  domain_google_index  url_shortened  phishing  \n",
       "0                 0                    0              0         1  \n",
       "1                 0                    0              0         1  \n",
       "2                 0                    0              0         0  \n",
       "3                 0                    0              0         1  \n",
       "4                 0                    0              0         0  \n",
       "\n",
       "[5 rows x 112 columns]"
      ]
     },
     "execution_count": 3,
     "metadata": {},
     "output_type": "execute_result"
    }
   ],
   "source": [
    "data.head()"
   ]
  },
  {
   "cell_type": "code",
   "execution_count": 4,
   "metadata": {},
   "outputs": [
    {
     "name": "stdout",
     "output_type": "stream",
     "text": [
      "<class 'pandas.core.frame.DataFrame'>\n",
      "RangeIndex: 88647 entries, 0 to 88646\n",
      "Columns: 112 entries, qty_dot_url to phishing\n",
      "dtypes: float64(1), int64(111)\n",
      "memory usage: 75.7 MB\n"
     ]
    }
   ],
   "source": [
    "data.info()"
   ]
  },
  {
   "cell_type": "code",
   "execution_count": 5,
   "metadata": {
    "scrolled": true
   },
   "outputs": [
    {
     "data": {
      "text/html": [
       "<div>\n",
       "<style scoped>\n",
       "    .dataframe tbody tr th:only-of-type {\n",
       "        vertical-align: middle;\n",
       "    }\n",
       "\n",
       "    .dataframe tbody tr th {\n",
       "        vertical-align: top;\n",
       "    }\n",
       "\n",
       "    .dataframe thead th {\n",
       "        text-align: right;\n",
       "    }\n",
       "</style>\n",
       "<table border=\"1\" class=\"dataframe\">\n",
       "  <thead>\n",
       "    <tr style=\"text-align: right;\">\n",
       "      <th></th>\n",
       "      <th>qty_dot_url</th>\n",
       "      <th>qty_hyphen_url</th>\n",
       "      <th>qty_underline_url</th>\n",
       "      <th>qty_slash_url</th>\n",
       "      <th>qty_questionmark_url</th>\n",
       "      <th>qty_equal_url</th>\n",
       "      <th>qty_at_url</th>\n",
       "      <th>qty_and_url</th>\n",
       "      <th>qty_exclamation_url</th>\n",
       "      <th>qty_space_url</th>\n",
       "      <th>...</th>\n",
       "      <th>qty_ip_resolved</th>\n",
       "      <th>qty_nameservers</th>\n",
       "      <th>qty_mx_servers</th>\n",
       "      <th>ttl_hostname</th>\n",
       "      <th>tls_ssl_certificate</th>\n",
       "      <th>qty_redirects</th>\n",
       "      <th>url_google_index</th>\n",
       "      <th>domain_google_index</th>\n",
       "      <th>url_shortened</th>\n",
       "      <th>phishing</th>\n",
       "    </tr>\n",
       "  </thead>\n",
       "  <tbody>\n",
       "    <tr>\n",
       "      <th>count</th>\n",
       "      <td>88647.000000</td>\n",
       "      <td>88647.000000</td>\n",
       "      <td>88647.000000</td>\n",
       "      <td>88647.000000</td>\n",
       "      <td>88647.000000</td>\n",
       "      <td>88647.000000</td>\n",
       "      <td>88647.000000</td>\n",
       "      <td>88647.000000</td>\n",
       "      <td>88647.000000</td>\n",
       "      <td>88647.000000</td>\n",
       "      <td>...</td>\n",
       "      <td>88647.000000</td>\n",
       "      <td>88647.000000</td>\n",
       "      <td>88647.000000</td>\n",
       "      <td>88647.000000</td>\n",
       "      <td>88647.000000</td>\n",
       "      <td>88647.000000</td>\n",
       "      <td>88647.00000</td>\n",
       "      <td>88647.000000</td>\n",
       "      <td>88647.000000</td>\n",
       "      <td>88647.000000</td>\n",
       "    </tr>\n",
       "    <tr>\n",
       "      <th>mean</th>\n",
       "      <td>2.191343</td>\n",
       "      <td>0.328810</td>\n",
       "      <td>0.113879</td>\n",
       "      <td>1.281781</td>\n",
       "      <td>0.009329</td>\n",
       "      <td>0.205861</td>\n",
       "      <td>0.022133</td>\n",
       "      <td>0.140885</td>\n",
       "      <td>0.002944</td>\n",
       "      <td>0.001015</td>\n",
       "      <td>...</td>\n",
       "      <td>1.136564</td>\n",
       "      <td>2.772412</td>\n",
       "      <td>1.742428</td>\n",
       "      <td>6159.877514</td>\n",
       "      <td>0.506447</td>\n",
       "      <td>0.343903</td>\n",
       "      <td>0.00141</td>\n",
       "      <td>0.002019</td>\n",
       "      <td>0.005482</td>\n",
       "      <td>0.345720</td>\n",
       "    </tr>\n",
       "    <tr>\n",
       "      <th>std</th>\n",
       "      <td>1.235636</td>\n",
       "      <td>1.119286</td>\n",
       "      <td>0.657767</td>\n",
       "      <td>1.893929</td>\n",
       "      <td>0.112568</td>\n",
       "      <td>0.954272</td>\n",
       "      <td>0.279652</td>\n",
       "      <td>0.924864</td>\n",
       "      <td>0.087341</td>\n",
       "      <td>0.072653</td>\n",
       "      <td>...</td>\n",
       "      <td>0.895146</td>\n",
       "      <td>1.322999</td>\n",
       "      <td>1.706705</td>\n",
       "      <td>11465.583810</td>\n",
       "      <td>0.499961</td>\n",
       "      <td>0.783892</td>\n",
       "      <td>0.05864</td>\n",
       "      <td>0.063250</td>\n",
       "      <td>0.073841</td>\n",
       "      <td>0.475605</td>\n",
       "    </tr>\n",
       "    <tr>\n",
       "      <th>min</th>\n",
       "      <td>1.000000</td>\n",
       "      <td>0.000000</td>\n",
       "      <td>0.000000</td>\n",
       "      <td>0.000000</td>\n",
       "      <td>0.000000</td>\n",
       "      <td>0.000000</td>\n",
       "      <td>0.000000</td>\n",
       "      <td>0.000000</td>\n",
       "      <td>0.000000</td>\n",
       "      <td>0.000000</td>\n",
       "      <td>...</td>\n",
       "      <td>-1.000000</td>\n",
       "      <td>0.000000</td>\n",
       "      <td>0.000000</td>\n",
       "      <td>-1.000000</td>\n",
       "      <td>0.000000</td>\n",
       "      <td>-1.000000</td>\n",
       "      <td>-1.00000</td>\n",
       "      <td>-1.000000</td>\n",
       "      <td>0.000000</td>\n",
       "      <td>0.000000</td>\n",
       "    </tr>\n",
       "    <tr>\n",
       "      <th>25%</th>\n",
       "      <td>2.000000</td>\n",
       "      <td>0.000000</td>\n",
       "      <td>0.000000</td>\n",
       "      <td>0.000000</td>\n",
       "      <td>0.000000</td>\n",
       "      <td>0.000000</td>\n",
       "      <td>0.000000</td>\n",
       "      <td>0.000000</td>\n",
       "      <td>0.000000</td>\n",
       "      <td>0.000000</td>\n",
       "      <td>...</td>\n",
       "      <td>1.000000</td>\n",
       "      <td>2.000000</td>\n",
       "      <td>1.000000</td>\n",
       "      <td>292.000000</td>\n",
       "      <td>0.000000</td>\n",
       "      <td>0.000000</td>\n",
       "      <td>0.00000</td>\n",
       "      <td>0.000000</td>\n",
       "      <td>0.000000</td>\n",
       "      <td>0.000000</td>\n",
       "    </tr>\n",
       "    <tr>\n",
       "      <th>50%</th>\n",
       "      <td>2.000000</td>\n",
       "      <td>0.000000</td>\n",
       "      <td>0.000000</td>\n",
       "      <td>0.000000</td>\n",
       "      <td>0.000000</td>\n",
       "      <td>0.000000</td>\n",
       "      <td>0.000000</td>\n",
       "      <td>0.000000</td>\n",
       "      <td>0.000000</td>\n",
       "      <td>0.000000</td>\n",
       "      <td>...</td>\n",
       "      <td>1.000000</td>\n",
       "      <td>2.000000</td>\n",
       "      <td>1.000000</td>\n",
       "      <td>2029.000000</td>\n",
       "      <td>1.000000</td>\n",
       "      <td>0.000000</td>\n",
       "      <td>0.00000</td>\n",
       "      <td>0.000000</td>\n",
       "      <td>0.000000</td>\n",
       "      <td>0.000000</td>\n",
       "    </tr>\n",
       "    <tr>\n",
       "      <th>75%</th>\n",
       "      <td>2.000000</td>\n",
       "      <td>0.000000</td>\n",
       "      <td>0.000000</td>\n",
       "      <td>2.000000</td>\n",
       "      <td>0.000000</td>\n",
       "      <td>0.000000</td>\n",
       "      <td>0.000000</td>\n",
       "      <td>0.000000</td>\n",
       "      <td>0.000000</td>\n",
       "      <td>0.000000</td>\n",
       "      <td>...</td>\n",
       "      <td>1.000000</td>\n",
       "      <td>4.000000</td>\n",
       "      <td>2.000000</td>\n",
       "      <td>10798.000000</td>\n",
       "      <td>1.000000</td>\n",
       "      <td>1.000000</td>\n",
       "      <td>0.00000</td>\n",
       "      <td>0.000000</td>\n",
       "      <td>0.000000</td>\n",
       "      <td>1.000000</td>\n",
       "    </tr>\n",
       "    <tr>\n",
       "      <th>max</th>\n",
       "      <td>24.000000</td>\n",
       "      <td>35.000000</td>\n",
       "      <td>21.000000</td>\n",
       "      <td>44.000000</td>\n",
       "      <td>9.000000</td>\n",
       "      <td>23.000000</td>\n",
       "      <td>43.000000</td>\n",
       "      <td>26.000000</td>\n",
       "      <td>10.000000</td>\n",
       "      <td>9.000000</td>\n",
       "      <td>...</td>\n",
       "      <td>24.000000</td>\n",
       "      <td>20.000000</td>\n",
       "      <td>20.000000</td>\n",
       "      <td>604800.000000</td>\n",
       "      <td>1.000000</td>\n",
       "      <td>17.000000</td>\n",
       "      <td>1.00000</td>\n",
       "      <td>1.000000</td>\n",
       "      <td>1.000000</td>\n",
       "      <td>1.000000</td>\n",
       "    </tr>\n",
       "  </tbody>\n",
       "</table>\n",
       "<p>8 rows × 112 columns</p>\n",
       "</div>"
      ],
      "text/plain": [
       "        qty_dot_url  qty_hyphen_url  qty_underline_url  qty_slash_url  \\\n",
       "count  88647.000000    88647.000000       88647.000000   88647.000000   \n",
       "mean       2.191343        0.328810           0.113879       1.281781   \n",
       "std        1.235636        1.119286           0.657767       1.893929   \n",
       "min        1.000000        0.000000           0.000000       0.000000   \n",
       "25%        2.000000        0.000000           0.000000       0.000000   \n",
       "50%        2.000000        0.000000           0.000000       0.000000   \n",
       "75%        2.000000        0.000000           0.000000       2.000000   \n",
       "max       24.000000       35.000000          21.000000      44.000000   \n",
       "\n",
       "       qty_questionmark_url  qty_equal_url    qty_at_url   qty_and_url  \\\n",
       "count          88647.000000   88647.000000  88647.000000  88647.000000   \n",
       "mean               0.009329       0.205861      0.022133      0.140885   \n",
       "std                0.112568       0.954272      0.279652      0.924864   \n",
       "min                0.000000       0.000000      0.000000      0.000000   \n",
       "25%                0.000000       0.000000      0.000000      0.000000   \n",
       "50%                0.000000       0.000000      0.000000      0.000000   \n",
       "75%                0.000000       0.000000      0.000000      0.000000   \n",
       "max                9.000000      23.000000     43.000000     26.000000   \n",
       "\n",
       "       qty_exclamation_url  qty_space_url  ...  qty_ip_resolved  \\\n",
       "count         88647.000000   88647.000000  ...     88647.000000   \n",
       "mean              0.002944       0.001015  ...         1.136564   \n",
       "std               0.087341       0.072653  ...         0.895146   \n",
       "min               0.000000       0.000000  ...        -1.000000   \n",
       "25%               0.000000       0.000000  ...         1.000000   \n",
       "50%               0.000000       0.000000  ...         1.000000   \n",
       "75%               0.000000       0.000000  ...         1.000000   \n",
       "max              10.000000       9.000000  ...        24.000000   \n",
       "\n",
       "       qty_nameservers  qty_mx_servers   ttl_hostname  tls_ssl_certificate  \\\n",
       "count     88647.000000    88647.000000   88647.000000         88647.000000   \n",
       "mean          2.772412        1.742428    6159.877514             0.506447   \n",
       "std           1.322999        1.706705   11465.583810             0.499961   \n",
       "min           0.000000        0.000000      -1.000000             0.000000   \n",
       "25%           2.000000        1.000000     292.000000             0.000000   \n",
       "50%           2.000000        1.000000    2029.000000             1.000000   \n",
       "75%           4.000000        2.000000   10798.000000             1.000000   \n",
       "max          20.000000       20.000000  604800.000000             1.000000   \n",
       "\n",
       "       qty_redirects  url_google_index  domain_google_index  url_shortened  \\\n",
       "count   88647.000000       88647.00000         88647.000000   88647.000000   \n",
       "mean        0.343903           0.00141             0.002019       0.005482   \n",
       "std         0.783892           0.05864             0.063250       0.073841   \n",
       "min        -1.000000          -1.00000            -1.000000       0.000000   \n",
       "25%         0.000000           0.00000             0.000000       0.000000   \n",
       "50%         0.000000           0.00000             0.000000       0.000000   \n",
       "75%         1.000000           0.00000             0.000000       0.000000   \n",
       "max        17.000000           1.00000             1.000000       1.000000   \n",
       "\n",
       "           phishing  \n",
       "count  88647.000000  \n",
       "mean       0.345720  \n",
       "std        0.475605  \n",
       "min        0.000000  \n",
       "25%        0.000000  \n",
       "50%        0.000000  \n",
       "75%        1.000000  \n",
       "max        1.000000  \n",
       "\n",
       "[8 rows x 112 columns]"
      ]
     },
     "execution_count": 5,
     "metadata": {},
     "output_type": "execute_result"
    }
   ],
   "source": [
    "data.describe()"
   ]
  },
  {
   "cell_type": "code",
   "execution_count": 6,
   "metadata": {},
   "outputs": [],
   "source": [
    "X = data.iloc[:,:-1]\n",
    "y= data.iloc[:,-1]"
   ]
  },
  {
   "cell_type": "markdown",
   "metadata": {},
   "source": [
    "### Balanced Dataset"
   ]
  },
  {
   "cell_type": "code",
   "execution_count": 7,
   "metadata": {},
   "outputs": [
    {
     "data": {
      "image/png": "[encoded data removed]",
      "text/plain": [
       "<Figure size 640x480 with 1 Axes>"
      ]
     },
     "metadata": {},
     "output_type": "display_data"
    },
    {
     "name": "stdout",
     "output_type": "stream",
     "text": [
      "(58000, 112)\n",
      "(30647, 112)\n"
     ]
    }
   ],
   "source": [
    "sns.set_style(\"darkgrid\")\n",
    "sns.countplot(np.ravel(y))\n",
    "plt.show()\n",
    "print(data[data[\"phishing\"]==0].shape)\n",
    "print(data[data[\"phishing\"]==1].shape)"
   ]
  },
  {
   "cell_type": "code",
   "execution_count": 8,
   "metadata": {},
   "outputs": [
    {
     "name": "stdout",
     "output_type": "stream",
     "text": [
      "(58000, 112)\n",
      "(58000, 112)\n"
     ]
    }
   ],
   "source": [
    "from imblearn.over_sampling import RandomOverSampler\n",
    "rdm=RandomOverSampler()\n",
    "X,y=rdm.fit_resample(X,y)\n",
    "data=pd.concat([X,y],axis=1)  #updating the balanced form of dataset\n",
    "print(data[data[\"phishing\"]==0].shape)\n",
    "print(data[data[\"phishing\"]==1].shape)"
   ]
  },
  {
   "cell_type": "code",
   "execution_count": 9,
   "metadata": {},
   "outputs": [
    {
     "data": {
      "image/png": "[encoded data removed]",
      "text/plain": [
       "<Figure size 640x480 with 1 Axes>"
      ]
     },
     "metadata": {},
     "output_type": "display_data"
    }
   ],
   "source": [
    "sns.set_style(\"darkgrid\")\n",
    "sns.countplot(np.ravel(y))\n",
    "plt.show()"
   ]
  },
  {
   "cell_type": "markdown",
   "metadata": {},
   "source": [
    "### Train Test Split"
   ]
  },
  {
   "cell_type": "code",
   "execution_count": 10,
   "metadata": {},
   "outputs": [
    {
     "name": "stdout",
     "output_type": "stream",
     "text": [
      "(77720, 111)\n",
      "(77720,)\n",
      "(38280, 111)\n",
      "(38280,)\n"
     ]
    }
   ],
   "source": [
    "from sklearn.model_selection import train_test_split\n",
    "\n",
    "X_train, X_test, y_train, y_test = train_test_split(X, y, random_state=42, test_size=0.33)\n",
    "print(X_train.shape)\n",
    "print(y_train.shape)\n",
    "print(X_test.shape)\n",
    "print(y_test.shape)"
   ]
  },
  {
   "cell_type": "markdown",
   "metadata": {},
   "source": [
    "### Feature Selection"
   ]
  },
  {
   "cell_type": "code",
   "execution_count": 11,
   "metadata": {},
   "outputs": [],
   "source": [
    "from sklearn.feature_selection import SelectFromModel\n",
    "from sklearn.ensemble import AdaBoostClassifier"
   ]
  },
  {
   "cell_type": "code",
   "execution_count": 12,
   "metadata": {},
   "outputs": [],
   "source": [
    "estimator = AdaBoostClassifier(random_state=42, n_estimators=50)\n",
    "selector = SelectFromModel(estimator)\n",
    "selector = selector.fit(X_train, y_train) "
   ]
  },
  {
   "cell_type": "code",
   "execution_count": 13,
   "metadata": {},
   "outputs": [
    {
     "name": "stdout",
     "output_type": "stream",
     "text": [
      "All features: 111\n",
      "['qty_dot_url' 'qty_hyphen_url' 'qty_underline_url' 'qty_slash_url'\n",
      " 'qty_questionmark_url' 'qty_equal_url' 'qty_at_url' 'qty_and_url'\n",
      " 'qty_exclamation_url' 'qty_space_url' 'qty_tilde_url' 'qty_comma_url'\n",
      " 'qty_plus_url' 'qty_asterisk_url' 'qty_hashtag_url' 'qty_dollar_url'\n",
      " 'qty_percent_url' 'qty_tld_url' 'length_url' 'qty_dot_domain'\n",
      " 'qty_hyphen_domain' 'qty_underline_domain' 'qty_slash_domain'\n",
      " 'qty_questionmark_domain' 'qty_equal_domain' 'qty_at_domain'\n",
      " 'qty_and_domain' 'qty_exclamation_domain' 'qty_space_domain'\n",
      " 'qty_tilde_domain' 'qty_comma_domain' 'qty_plus_domain'\n",
      " 'qty_asterisk_domain' 'qty_hashtag_domain' 'qty_dollar_domain'\n",
      " 'qty_percent_domain' 'qty_vowels_domain' 'domain_length' 'domain_in_ip'\n",
      " 'server_client_domain' 'qty_dot_directory' 'qty_hyphen_directory'\n",
      " 'qty_underline_directory' 'qty_slash_directory'\n",
      " 'qty_questionmark_directory' 'qty_equal_directory' 'qty_at_directory'\n",
      " 'qty_and_directory' 'qty_exclamation_directory' 'qty_space_directory'\n",
      " 'qty_tilde_directory' 'qty_comma_directory' 'qty_plus_directory'\n",
      " 'qty_asterisk_directory' 'qty_hashtag_directory' 'qty_dollar_directory'\n",
      " 'qty_percent_directory' 'directory_length' 'qty_dot_file'\n",
      " 'qty_hyphen_file' 'qty_underline_file' 'qty_slash_file'\n",
      " 'qty_questionmark_file' 'qty_equal_file' 'qty_at_file' 'qty_and_file'\n",
      " 'qty_exclamation_file' 'qty_space_file' 'qty_tilde_file' 'qty_comma_file'\n",
      " 'qty_plus_file' 'qty_asterisk_file' 'qty_hashtag_file' 'qty_dollar_file'\n",
      " 'qty_percent_file' 'file_length' 'qty_dot_params' 'qty_hyphen_params'\n",
      " 'qty_underline_params' 'qty_slash_params' 'qty_questionmark_params'\n",
      " 'qty_equal_params' 'qty_at_params' 'qty_and_params'\n",
      " 'qty_exclamation_params' 'qty_space_params' 'qty_tilde_params'\n",
      " 'qty_comma_params' 'qty_plus_params' 'qty_asterisk_params'\n",
      " 'qty_hashtag_params' 'qty_dollar_params' 'qty_percent_params'\n",
      " 'params_length' 'tld_present_params' 'qty_params' 'email_in_url'\n",
      " 'time_response' 'domain_spf' 'asn_ip' 'time_domain_activation'\n",
      " 'time_domain_expiration' 'qty_ip_resolved' 'qty_nameservers'\n",
      " 'qty_mx_servers' 'ttl_hostname' 'tls_ssl_certificate' 'qty_redirects'\n",
      " 'url_google_index' 'domain_google_index' 'url_shortened']\n"
     ]
    }
   ],
   "source": [
    "features = np.array(X_train.columns)\n",
    "print(\"All features: {}\".format(len(X_train.columns)))\n",
    "print(features) "
   ]
  },
  {
   "cell_type": "code",
   "execution_count": 14,
   "metadata": {},
   "outputs": [
    {
     "name": "stdout",
     "output_type": "stream",
     "text": [
      "Selected features:\n",
      "['qty_hyphen_url' 'qty_slash_url' 'qty_at_url' 'qty_percent_url'\n",
      " 'qty_tld_url' 'length_url' 'qty_dot_domain' 'qty_hyphen_domain'\n",
      " 'domain_length' 'qty_hyphen_directory' 'qty_dollar_directory'\n",
      " 'directory_length' 'qty_tilde_file' 'file_length' 'params_length'\n",
      " 'time_response' 'domain_spf' 'asn_ip' 'time_domain_activation'\n",
      " 'qty_ip_resolved' 'qty_nameservers' 'qty_mx_servers' 'ttl_hostname'\n",
      " 'tls_ssl_certificate' 'url_shortened']\n"
     ]
    }
   ],
   "source": [
    "status = selector.get_support()\n",
    "print(\"Selected features:\".format(len(X_train.columns)))\n",
    "print(features[status])"
   ]
  },
  {
   "cell_type": "code",
   "execution_count": 15,
   "metadata": {},
   "outputs": [
    {
     "name": "stdout",
     "output_type": "stream",
     "text": [
      "Index(['qty_hyphen_url', 'qty_slash_url', 'qty_at_url', 'qty_percent_url',\n",
      "       'qty_tld_url', 'length_url', 'qty_dot_domain', 'qty_hyphen_domain',\n",
      "       'domain_length', 'qty_hyphen_directory', 'qty_dollar_directory',\n",
      "       'directory_length', 'qty_tilde_file', 'file_length', 'params_length',\n",
      "       'time_response', 'domain_spf', 'asn_ip', 'time_domain_activation',\n",
      "       'qty_ip_resolved', 'qty_nameservers', 'qty_mx_servers', 'ttl_hostname',\n",
      "       'tls_ssl_certificate', 'url_shortened'],\n",
      "      dtype='object')\n",
      "Index(['qty_hyphen_url', 'qty_slash_url', 'qty_at_url', 'qty_percent_url',\n",
      "       'qty_tld_url', 'length_url', 'qty_dot_domain', 'qty_hyphen_domain',\n",
      "       'domain_length', 'qty_hyphen_directory', 'qty_dollar_directory',\n",
      "       'directory_length', 'qty_tilde_file', 'file_length', 'params_length',\n",
      "       'time_response', 'domain_spf', 'asn_ip', 'time_domain_activation',\n",
      "       'qty_ip_resolved', 'qty_nameservers', 'qty_mx_servers', 'ttl_hostname',\n",
      "       'tls_ssl_certificate', 'url_shortened'],\n",
      "      dtype='object')\n"
     ]
    }
   ],
   "source": [
    "X_train=X_train[features[status]]\n",
    "X_test=X_test[features[status]]\n",
    "print(X_train.columns)\n",
    "print(X_test.columns)"
   ]
  },
  {
   "cell_type": "code",
   "execution_count": 16,
   "metadata": {},
   "outputs": [
    {
     "name": "stdout",
     "output_type": "stream",
     "text": [
      "25 features selected.\n"
     ]
    }
   ],
   "source": [
    "print(len(X_train.columns),\"features selected.\")"
   ]
  },
  {
   "cell_type": "markdown",
   "metadata": {},
   "source": [
    "### Model"
   ]
  },
  {
   "cell_type": "code",
   "execution_count": 35,
   "metadata": {},
   "outputs": [],
   "source": [
    "from sklearn.metrics import accuracy_score,confusion_matrix,precision_recall_curve,roc_auc_score,f1_score,classification_report\n",
    "from sklearn.metrics import roc_curve, plot_roc_curve\n",
    "from sklearn.metrics import precision_recall_fscore_support\n",
    "\n",
    "def model_report(model):\n",
    "    print(confusion_matrix(y_test,model.predict(X_test)))\n",
    "    print()\n",
    "    print(classification_report(y_test,model.predict(X_test)))\n",
    "    print()\n",
    "    print('roc_auc_score: ', roc_auc_score(y_test, model.predict(X_test)))\n",
    "    print(\"train set accuracy score :\",accuracy_score(y_train,model.predict(X_train)))\n",
    "    print(\"test set accuracy score :\",  accuracy_score(y_test,model.predict(X_test)))\n",
    "    precision, recall, f1_score, _ = precision_recall_fscore_support(y_test, model.predict(X_test), average='binary')\n",
    "    print('precision: ', precision)\n",
    "    print('recall: ', recall)\n",
    "    print('f1-score: ', f1_score)\n",
    "    plot_roc_curve(model,X_test,y_test)"
   ]
  },
  {
   "cell_type": "code",
   "execution_count": 36,
   "metadata": {},
   "outputs": [],
   "source": [
    "def model_pred(model,y_test):\n",
    "    y_pred=model.predict(X_test)\n",
    "    y_pred=pd.DataFrame(y_pred,columns=['Pred'],index=None)\n",
    "    y_test=np.ravel(y_test)\n",
    "    y_test=pd.DataFrame(y_test,columns=['Actual'],index=None)\n",
    "    print(pd.concat([y_test,y_pred], axis=1))"
   ]
  },
  {
   "cell_type": "markdown",
   "metadata": {},
   "source": [
    "### Logisitic Regression"
   ]
  },
  {
   "cell_type": "code",
   "execution_count": 26,
   "metadata": {},
   "outputs": [
    {
     "data": {
      "text/plain": [
       "GridSearchCV(cv=5, estimator=LogisticRegression(),\n",
       "             param_grid={'C': [0.0, 0.5, 1, 1.5, 2, 3, 5, 6, 7, 8, 8.5, 9, 9.5,\n",
       "                               10, 30, 45],\n",
       "                         'penalty': ['l1', 'l2', 'elasticnet']},\n",
       "             scoring='accuracy')"
      ]
     },
     "execution_count": 26,
     "metadata": {},
     "output_type": "execute_result"
    }
   ],
   "source": [
    "from sklearn.model_selection import GridSearchCV\n",
    "from sklearn.linear_model import LogisticRegression\n",
    "\n",
    "model = LogisticRegression()\n",
    "\n",
    "parameter={'C':[0.0,0.5,1,1.5,2,3,5,6,7,8,8.5,9,9.5,10,30,45],'penalty':['l1','l2','elasticnet']}\n",
    "log_regressor=GridSearchCV(model,parameter,scoring='accuracy',cv=5)\n",
    "\n",
    "log_regressor.fit(X_train,y_train)"
   ]
  },
  {
   "cell_type": "code",
   "execution_count": 27,
   "metadata": {},
   "outputs": [
    {
     "data": {
      "text/plain": [
       "{'C': 0.5, 'penalty': 'l2'}"
      ]
     },
     "execution_count": 27,
     "metadata": {},
     "output_type": "execute_result"
    }
   ],
   "source": [
    "log_regressor.best_params_"
   ]
  },
  {
   "cell_type": "code",
   "execution_count": 28,
   "metadata": {},
   "outputs": [
    {
     "data": {
      "text/plain": [
       "0.8999356664951106"
      ]
     },
     "execution_count": 28,
     "metadata": {},
     "output_type": "execute_result"
    }
   ],
   "source": [
    "log_regressor.best_score_"
   ]
  },
  {
   "cell_type": "code",
   "execution_count": 29,
   "metadata": {},
   "outputs": [
    {
     "name": "stdout",
     "output_type": "stream",
     "text": [
      "[[18092  1257]\n",
      " [ 2678 16253]]\n",
      "\n",
      "              precision    recall  f1-score   support\n",
      "\n",
      "           0       0.87      0.94      0.90     19349\n",
      "           1       0.93      0.86      0.89     18931\n",
      "\n",
      "    accuracy                           0.90     38280\n",
      "   macro avg       0.90      0.90      0.90     38280\n",
      "weighted avg       0.90      0.90      0.90     38280\n",
      "\n",
      "\n",
      "roc_auc_score:  0.8967871533944116\n",
      "train set accuracy score : 0.8945959855892949\n",
      "test set accuracy score : 0.8972048066875653\n",
      "precision:  0.9282124500285551\n",
      "recall:  0.8585389044424488\n",
      "f1-score:  0.8920172333360775\n",
      "       Actual  Pred\n",
      "0           1     1\n",
      "1           1     1\n",
      "2           1     1\n",
      "3           0     0\n",
      "4           1     1\n",
      "...       ...   ...\n",
      "38275       0     0\n",
      "38276       0     0\n",
      "38277       1     1\n",
      "38278       1     0\n",
      "38279       0     0\n",
      "\n",
      "[38280 rows x 2 columns]\n"
     ]
    },
    {
     "data": {
      "image/png": "[encoded data removed]",
      "text/plain": [
       "<Figure size 640x480 with 1 Axes>"
      ]
     },
     "metadata": {},
     "output_type": "display_data"
    }
   ],
   "source": [
    "model_report(log_regressor)\n",
    "model_pred(log_regressor,y_test)"
   ]
  },
  {
   "cell_type": "markdown",
   "metadata": {},
   "source": [
    "### Random Forest"
   ]
  },
  {
   "cell_type": "code",
   "execution_count": 30,
   "metadata": {},
   "outputs": [],
   "source": [
    "parameter = { \n",
    "    'n_estimators': [50,100,200,500],\n",
    "    'max_features': ['auto', 'sqrt', 'log2'],\n",
    "    'max_depth' : [5,10,15,20],\n",
    "    'criterion' :['gini', 'entropy']\n",
    "}"
   ]
  },
  {
   "cell_type": "code",
   "execution_count": 31,
   "metadata": {},
   "outputs": [
    {
     "data": {
      "text/plain": [
       "GridSearchCV(cv=5, estimator=RandomForestClassifier(random_state=42),\n",
       "             param_grid={'criterion': ['gini', 'entropy'],\n",
       "                         'max_depth': [5, 10, 15, 20],\n",
       "                         'max_features': ['auto', 'sqrt', 'log2'],\n",
       "                         'n_estimators': [50, 100, 200, 500]},\n",
       "             scoring='accuracy')"
      ]
     },
     "execution_count": 31,
     "metadata": {},
     "output_type": "execute_result"
    }
   ],
   "source": [
    "from sklearn.model_selection import GridSearchCV\n",
    "from sklearn.ensemble import RandomForestClassifier\n",
    "\n",
    "model = RandomForestClassifier(random_state=42)\n",
    "\n",
    "rf_model=GridSearchCV(model,parameter,scoring='accuracy',cv=5)\n",
    "rf_model.fit(X_train,y_train)"
   ]
  },
  {
   "cell_type": "code",
   "execution_count": 32,
   "metadata": {},
   "outputs": [
    {
     "data": {
      "text/plain": [
       "{'criterion': 'gini',\n",
       " 'max_depth': 20,\n",
       " 'max_features': 'auto',\n",
       " 'n_estimators': 100}"
      ]
     },
     "execution_count": 32,
     "metadata": {},
     "output_type": "execute_result"
    }
   ],
   "source": [
    "rf_model.best_params_"
   ]
  },
  {
   "cell_type": "code",
   "execution_count": 33,
   "metadata": {},
   "outputs": [
    {
     "data": {
      "text/plain": [
       "0.9763381369016984"
      ]
     },
     "execution_count": 33,
     "metadata": {},
     "output_type": "execute_result"
    }
   ],
   "source": [
    "rf_model.best_score_"
   ]
  },
  {
   "cell_type": "code",
   "execution_count": 34,
   "metadata": {},
   "outputs": [
    {
     "name": "stdout",
     "output_type": "stream",
     "text": [
      "[[18748   601]\n",
      " [  253 18678]]\n",
      "\n",
      "              precision    recall  f1-score   support\n",
      "\n",
      "           0       0.99      0.97      0.98     19349\n",
      "           1       0.97      0.99      0.98     18931\n",
      "\n",
      "    accuracy                           0.98     38280\n",
      "   macro avg       0.98      0.98      0.98     38280\n",
      "weighted avg       0.98      0.98      0.98     38280\n",
      "\n",
      "\n",
      "roc_auc_score:  0.9777873200929657\n",
      "train set accuracy score : 0.9982629953679877\n",
      "test set accuracy score : 0.9776907001044932\n",
      "precision:  0.9688261839307017\n",
      "recall:  0.9866356769320163\n",
      "f1-score:  0.977649829887464\n",
      "       Actual  Pred\n",
      "0           1     1\n",
      "1           1     1\n",
      "2           1     1\n",
      "3           0     0\n",
      "4           1     1\n",
      "...       ...   ...\n",
      "38275       0     0\n",
      "38276       0     0\n",
      "38277       1     1\n",
      "38278       1     1\n",
      "38279       0     0\n",
      "\n",
      "[38280 rows x 2 columns]\n"
     ]
    },
    {
     "data": {
      "image/png": "[encoded data removed]",
      "text/plain": [
       "<Figure size 640x480 with 1 Axes>"
      ]
     },
     "metadata": {},
     "output_type": "display_data"
    }
   ],
   "source": [
    "model_report(rf_model)\n",
    "model_pred(rf_model,y_test)"
   ]
  },
  {
   "cell_type": "markdown",
   "metadata": {},
   "source": [
    "### Gradient Boosting"
   ]
  },
  {
   "cell_type": "code",
   "execution_count": 35,
   "metadata": {},
   "outputs": [],
   "source": [
    "parameters = {'n_estimators': [150,200,250,500],\n",
    "              'learning_rate': [0.1, 0.05, 0.01],\n",
    "              'max_depth': [5,10,15]}"
   ]
  },
  {
   "cell_type": "code",
   "execution_count": 36,
   "metadata": {},
   "outputs": [
    {
     "data": {
      "text/plain": [
       "GridSearchCV(cv=5, estimator=GradientBoostingClassifier(random_state=42),\n",
       "             param_grid={'learning_rate': [0.1, 0.05, 0.01],\n",
       "                         'max_depth': [5, 10, 15],\n",
       "                         'n_estimators': [150, 200, 250, 500]},\n",
       "             scoring='accuracy')"
      ]
     },
     "execution_count": 36,
     "metadata": {},
     "output_type": "execute_result"
    }
   ],
   "source": [
    "from sklearn.ensemble import GradientBoostingClassifier\n",
    "\n",
    "model = GradientBoostingClassifier(random_state=42)\n",
    "\n",
    "gb_model = GridSearchCV(model, parameters, cv=5, scoring='accuracy')\n",
    "gb_model.fit(X_train, y_train)"
   ]
  },
  {
   "cell_type": "code",
   "execution_count": 37,
   "metadata": {},
   "outputs": [
    {
     "data": {
      "text/plain": [
       "{'learning_rate': 0.1, 'max_depth': 10, 'n_estimators': 500}"
      ]
     },
     "execution_count": 37,
     "metadata": {},
     "output_type": "execute_result"
    }
   ],
   "source": [
    "gb_model.best_params_"
   ]
  },
  {
   "cell_type": "code",
   "execution_count": 38,
   "metadata": {},
   "outputs": [
    {
     "data": {
      "text/plain": [
       "0.9798636129696346"
      ]
     },
     "execution_count": 38,
     "metadata": {},
     "output_type": "execute_result"
    }
   ],
   "source": [
    "gb_model.best_score_"
   ]
  },
  {
   "cell_type": "code",
   "execution_count": 39,
   "metadata": {},
   "outputs": [
    {
     "name": "stdout",
     "output_type": "stream",
     "text": [
      "[[18870   479]\n",
      " [  250 18681]]\n",
      "\n",
      "              precision    recall  f1-score   support\n",
      "\n",
      "           0       0.99      0.98      0.98     19349\n",
      "           1       0.97      0.99      0.98     18931\n",
      "\n",
      "    accuracy                           0.98     38280\n",
      "   macro avg       0.98      0.98      0.98     38280\n",
      "weighted avg       0.98      0.98      0.98     38280\n",
      "\n",
      "\n",
      "roc_auc_score:  0.9810191729163109\n",
      "train set accuracy score : 0.9999356664951107\n",
      "test set accuracy score : 0.9809561128526646\n",
      "precision:  0.975\n",
      "recall:  0.986794147166024\n",
      "f1-score:  0.98086162085532\n",
      "       Actual  Pred\n",
      "0           1     1\n",
      "1           1     1\n",
      "2           1     1\n",
      "3           0     0\n",
      "4           1     1\n",
      "...       ...   ...\n",
      "38275       0     0\n",
      "38276       0     0\n",
      "38277       1     1\n",
      "38278       1     1\n",
      "38279       0     0\n",
      "\n",
      "[38280 rows x 2 columns]\n"
     ]
    },
    {
     "data": {
      "image/png": "[encoded data removed]",
      "text/plain": [
       "<Figure size 640x480 with 1 Axes>"
      ]
     },
     "metadata": {},
     "output_type": "display_data"
    }
   ],
   "source": [
    "model_report(gb_model)\n",
    "model_pred(gb_model,y_test)"
   ]
  },
  {
   "cell_type": "markdown",
   "metadata": {},
   "source": [
    "### XGBoost Classifier"
   ]
  },
  {
   "cell_type": "code",
   "execution_count": 17,
   "metadata": {},
   "outputs": [],
   "source": [
    "param_grid = {\n",
    "    'n_estimators': [50, 100, 200],\n",
    "    'max_depth': [2, 4, 6],\n",
    "    'learning_rate': [0.01, 0.1, 1.0],\n",
    "    'gamma': [0, 0.1, 0.2],\n",
    "    'subsample': [0.5, 0.8, 1.0],\n",
    "    'colsample_bytree': [0.5, 0.8, 1.0],\n",
    "    'reg_alpha': [0, 0.1, 0.5],\n",
    "    'reg_lambda': [0, 0.1, 0.5],\n",
    "}"
   ]
  },
  {
   "cell_type": "code",
   "execution_count": null,
   "metadata": {},
   "outputs": [],
   "source": [
    "from sklearn.model_selection import GridSearchCV\n",
    "from xgboost import XGBClassifier\n",
    "\n",
    "model = XGBClassifier()\n",
    "xgb_model = GridSearchCV(model, param_grid, scoring='accuracy', cv=5)\n",
    "\n",
    "# Fit the grid search to the data\n",
    "xgb_model.fit(X_train, y_train)"
   ]
  },
  {
   "cell_type": "code",
   "execution_count": null,
   "metadata": {},
   "outputs": [],
   "source": []
  }
 ],
 "metadata": {
  "kernelspec": {
   "display_name": "Python 3 (ipykernel)",
   "language": "python",
   "name": "python3"
  },
  "language_info": {
   "codemirror_mode": {
    "name": "ipython",
    "version": 3
   },
   "file_extension": ".py",
   "mimetype": "text/x-python",
   "name": "python",
   "nbconvert_exporter": "python",
   "pygments_lexer": "ipython3",
   "version": "3.9.13"
  },
  "vscode": {
   "interpreter": {
    "hash": "4b81d28864e804b8b8a518e86ccafc3fbb941b9e3dea263cf16c80f4d726f475"
   }
  }
 },
 "nbformat": 4,
 "nbformat_minor": 2
}
