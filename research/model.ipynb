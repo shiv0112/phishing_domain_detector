{
 "cells": [
  {
   "cell_type": "code",
   "execution_count": 1,
   "metadata": {},
   "outputs": [],
   "source": [
    "import numpy as np\n",
    "import pandas as pd\n",
    "import seaborn as sns\n",
    "import matplotlib.pyplot as plt\n",
    "import warnings\n",
    "\n",
    "warnings.filterwarnings('ignore')"
   ]
  },
  {
   "cell_type": "code",
   "execution_count": 2,
   "metadata": {},
   "outputs": [],
   "source": [
    "data = pd.read_csv('../data/dataset_full.csv')"
   ]
  },
  {
   "cell_type": "code",
   "execution_count": 3,
   "metadata": {},
   "outputs": [
    {
     "data": {
      "text/html": [
       "<div>\n",
       "<style scoped>\n",
       "    .dataframe tbody tr th:only-of-type {\n",
       "        vertical-align: middle;\n",
       "    }\n",
       "\n",
       "    .dataframe tbody tr th {\n",
       "        vertical-align: top;\n",
       "    }\n",
       "\n",
       "    .dataframe thead th {\n",
       "        text-align: right;\n",
       "    }\n",
       "</style>\n",
       "<table border=\"1\" class=\"dataframe\">\n",
       "  <thead>\n",
       "    <tr style=\"text-align: right;\">\n",
       "      <th></th>\n",
       "      <th>qty_dot_url</th>\n",
       "      <th>qty_hyphen_url</th>\n",
       "      <th>qty_underline_url</th>\n",
       "      <th>qty_slash_url</th>\n",
       "      <th>qty_questionmark_url</th>\n",
       "      <th>qty_equal_url</th>\n",
       "      <th>qty_at_url</th>\n",
       "      <th>qty_and_url</th>\n",
       "      <th>qty_exclamation_url</th>\n",
       "      <th>qty_space_url</th>\n",
       "      <th>...</th>\n",
       "      <th>qty_ip_resolved</th>\n",
       "      <th>qty_nameservers</th>\n",
       "      <th>qty_mx_servers</th>\n",
       "      <th>ttl_hostname</th>\n",
       "      <th>tls_ssl_certificate</th>\n",
       "      <th>qty_redirects</th>\n",
       "      <th>url_google_index</th>\n",
       "      <th>domain_google_index</th>\n",
       "      <th>url_shortened</th>\n",
       "      <th>phishing</th>\n",
       "    </tr>\n",
       "  </thead>\n",
       "  <tbody>\n",
       "    <tr>\n",
       "      <th>0</th>\n",
       "      <td>3</td>\n",
       "      <td>0</td>\n",
       "      <td>0</td>\n",
       "      <td>1</td>\n",
       "      <td>0</td>\n",
       "      <td>0</td>\n",
       "      <td>0</td>\n",
       "      <td>0</td>\n",
       "      <td>0</td>\n",
       "      <td>0</td>\n",
       "      <td>...</td>\n",
       "      <td>1</td>\n",
       "      <td>2</td>\n",
       "      <td>0</td>\n",
       "      <td>892</td>\n",
       "      <td>0</td>\n",
       "      <td>0</td>\n",
       "      <td>0</td>\n",
       "      <td>0</td>\n",
       "      <td>0</td>\n",
       "      <td>1</td>\n",
       "    </tr>\n",
       "    <tr>\n",
       "      <th>1</th>\n",
       "      <td>5</td>\n",
       "      <td>0</td>\n",
       "      <td>1</td>\n",
       "      <td>3</td>\n",
       "      <td>0</td>\n",
       "      <td>3</td>\n",
       "      <td>0</td>\n",
       "      <td>2</td>\n",
       "      <td>0</td>\n",
       "      <td>0</td>\n",
       "      <td>...</td>\n",
       "      <td>1</td>\n",
       "      <td>2</td>\n",
       "      <td>1</td>\n",
       "      <td>9540</td>\n",
       "      <td>1</td>\n",
       "      <td>0</td>\n",
       "      <td>0</td>\n",
       "      <td>0</td>\n",
       "      <td>0</td>\n",
       "      <td>1</td>\n",
       "    </tr>\n",
       "    <tr>\n",
       "      <th>2</th>\n",
       "      <td>2</td>\n",
       "      <td>0</td>\n",
       "      <td>0</td>\n",
       "      <td>1</td>\n",
       "      <td>0</td>\n",
       "      <td>0</td>\n",
       "      <td>0</td>\n",
       "      <td>0</td>\n",
       "      <td>0</td>\n",
       "      <td>0</td>\n",
       "      <td>...</td>\n",
       "      <td>1</td>\n",
       "      <td>2</td>\n",
       "      <td>3</td>\n",
       "      <td>589</td>\n",
       "      <td>1</td>\n",
       "      <td>0</td>\n",
       "      <td>0</td>\n",
       "      <td>0</td>\n",
       "      <td>0</td>\n",
       "      <td>0</td>\n",
       "    </tr>\n",
       "    <tr>\n",
       "      <th>3</th>\n",
       "      <td>4</td>\n",
       "      <td>0</td>\n",
       "      <td>2</td>\n",
       "      <td>5</td>\n",
       "      <td>0</td>\n",
       "      <td>0</td>\n",
       "      <td>0</td>\n",
       "      <td>0</td>\n",
       "      <td>0</td>\n",
       "      <td>0</td>\n",
       "      <td>...</td>\n",
       "      <td>1</td>\n",
       "      <td>2</td>\n",
       "      <td>0</td>\n",
       "      <td>292</td>\n",
       "      <td>1</td>\n",
       "      <td>0</td>\n",
       "      <td>0</td>\n",
       "      <td>0</td>\n",
       "      <td>0</td>\n",
       "      <td>1</td>\n",
       "    </tr>\n",
       "    <tr>\n",
       "      <th>4</th>\n",
       "      <td>2</td>\n",
       "      <td>0</td>\n",
       "      <td>0</td>\n",
       "      <td>0</td>\n",
       "      <td>0</td>\n",
       "      <td>0</td>\n",
       "      <td>0</td>\n",
       "      <td>0</td>\n",
       "      <td>0</td>\n",
       "      <td>0</td>\n",
       "      <td>...</td>\n",
       "      <td>1</td>\n",
       "      <td>2</td>\n",
       "      <td>1</td>\n",
       "      <td>3597</td>\n",
       "      <td>0</td>\n",
       "      <td>1</td>\n",
       "      <td>0</td>\n",
       "      <td>0</td>\n",
       "      <td>0</td>\n",
       "      <td>0</td>\n",
       "    </tr>\n",
       "  </tbody>\n",
       "</table>\n",
       "<p>5 rows × 112 columns</p>\n",
       "</div>"
      ],
      "text/plain": [
       "   qty_dot_url  qty_hyphen_url  qty_underline_url  qty_slash_url  \\\n",
       "0            3               0                  0              1   \n",
       "1            5               0                  1              3   \n",
       "2            2               0                  0              1   \n",
       "3            4               0                  2              5   \n",
       "4            2               0                  0              0   \n",
       "\n",
       "   qty_questionmark_url  qty_equal_url  qty_at_url  qty_and_url  \\\n",
       "0                     0              0           0            0   \n",
       "1                     0              3           0            2   \n",
       "2                     0              0           0            0   \n",
       "3                     0              0           0            0   \n",
       "4                     0              0           0            0   \n",
       "\n",
       "   qty_exclamation_url  qty_space_url  ...  qty_ip_resolved  qty_nameservers  \\\n",
       "0                    0              0  ...                1                2   \n",
       "1                    0              0  ...                1                2   \n",
       "2                    0              0  ...                1                2   \n",
       "3                    0              0  ...                1                2   \n",
       "4                    0              0  ...                1                2   \n",
       "\n",
       "   qty_mx_servers  ttl_hostname  tls_ssl_certificate  qty_redirects  \\\n",
       "0               0           892                    0              0   \n",
       "1               1          9540                    1              0   \n",
       "2               3           589                    1              0   \n",
       "3               0           292                    1              0   \n",
       "4               1          3597                    0              1   \n",
       "\n",
       "   url_google_index  domain_google_index  url_shortened  phishing  \n",
       "0                 0                    0              0         1  \n",
       "1                 0                    0              0         1  \n",
       "2                 0                    0              0         0  \n",
       "3                 0                    0              0         1  \n",
       "4                 0                    0              0         0  \n",
       "\n",
       "[5 rows x 112 columns]"
      ]
     },
     "execution_count": 3,
     "metadata": {},
     "output_type": "execute_result"
    }
   ],
   "source": [
    "data.head()"
   ]
  },
  {
   "cell_type": "code",
   "execution_count": 4,
   "metadata": {},
   "outputs": [
    {
     "name": "stdout",
     "output_type": "stream",
     "text": [
      "<class 'pandas.core.frame.DataFrame'>\n",
      "RangeIndex: 88647 entries, 0 to 88646\n",
      "Columns: 112 entries, qty_dot_url to phishing\n",
      "dtypes: float64(1), int64(111)\n",
      "memory usage: 75.7 MB\n"
     ]
    }
   ],
   "source": [
    "data.info()"
   ]
  },
  {
   "cell_type": "code",
   "execution_count": 5,
   "metadata": {},
   "outputs": [
    {
     "data": {
      "text/html": [
       "<div>\n",
       "<style scoped>\n",
       "    .dataframe tbody tr th:only-of-type {\n",
       "        vertical-align: middle;\n",
       "    }\n",
       "\n",
       "    .dataframe tbody tr th {\n",
       "        vertical-align: top;\n",
       "    }\n",
       "\n",
       "    .dataframe thead th {\n",
       "        text-align: right;\n",
       "    }\n",
       "</style>\n",
       "<table border=\"1\" class=\"dataframe\">\n",
       "  <thead>\n",
       "    <tr style=\"text-align: right;\">\n",
       "      <th></th>\n",
       "      <th>qty_dot_url</th>\n",
       "      <th>qty_hyphen_url</th>\n",
       "      <th>qty_underline_url</th>\n",
       "      <th>qty_slash_url</th>\n",
       "      <th>qty_questionmark_url</th>\n",
       "      <th>qty_equal_url</th>\n",
       "      <th>qty_at_url</th>\n",
       "      <th>qty_and_url</th>\n",
       "      <th>qty_exclamation_url</th>\n",
       "      <th>qty_space_url</th>\n",
       "      <th>...</th>\n",
       "      <th>qty_ip_resolved</th>\n",
       "      <th>qty_nameservers</th>\n",
       "      <th>qty_mx_servers</th>\n",
       "      <th>ttl_hostname</th>\n",
       "      <th>tls_ssl_certificate</th>\n",
       "      <th>qty_redirects</th>\n",
       "      <th>url_google_index</th>\n",
       "      <th>domain_google_index</th>\n",
       "      <th>url_shortened</th>\n",
       "      <th>phishing</th>\n",
       "    </tr>\n",
       "  </thead>\n",
       "  <tbody>\n",
       "    <tr>\n",
       "      <th>count</th>\n",
       "      <td>88647.000000</td>\n",
       "      <td>88647.000000</td>\n",
       "      <td>88647.000000</td>\n",
       "      <td>88647.000000</td>\n",
       "      <td>88647.000000</td>\n",
       "      <td>88647.000000</td>\n",
       "      <td>88647.000000</td>\n",
       "      <td>88647.000000</td>\n",
       "      <td>88647.000000</td>\n",
       "      <td>88647.000000</td>\n",
       "      <td>...</td>\n",
       "      <td>88647.000000</td>\n",
       "      <td>88647.000000</td>\n",
       "      <td>88647.000000</td>\n",
       "      <td>88647.000000</td>\n",
       "      <td>88647.000000</td>\n",
       "      <td>88647.000000</td>\n",
       "      <td>88647.00000</td>\n",
       "      <td>88647.000000</td>\n",
       "      <td>88647.000000</td>\n",
       "      <td>88647.000000</td>\n",
       "    </tr>\n",
       "    <tr>\n",
       "      <th>mean</th>\n",
       "      <td>2.191343</td>\n",
       "      <td>0.328810</td>\n",
       "      <td>0.113879</td>\n",
       "      <td>1.281781</td>\n",
       "      <td>0.009329</td>\n",
       "      <td>0.205861</td>\n",
       "      <td>0.022133</td>\n",
       "      <td>0.140885</td>\n",
       "      <td>0.002944</td>\n",
       "      <td>0.001015</td>\n",
       "      <td>...</td>\n",
       "      <td>1.136564</td>\n",
       "      <td>2.772412</td>\n",
       "      <td>1.742428</td>\n",
       "      <td>6159.877514</td>\n",
       "      <td>0.506447</td>\n",
       "      <td>0.343903</td>\n",
       "      <td>0.00141</td>\n",
       "      <td>0.002019</td>\n",
       "      <td>0.005482</td>\n",
       "      <td>0.345720</td>\n",
       "    </tr>\n",
       "    <tr>\n",
       "      <th>std</th>\n",
       "      <td>1.235636</td>\n",
       "      <td>1.119286</td>\n",
       "      <td>0.657767</td>\n",
       "      <td>1.893929</td>\n",
       "      <td>0.112568</td>\n",
       "      <td>0.954272</td>\n",
       "      <td>0.279652</td>\n",
       "      <td>0.924864</td>\n",
       "      <td>0.087341</td>\n",
       "      <td>0.072653</td>\n",
       "      <td>...</td>\n",
       "      <td>0.895146</td>\n",
       "      <td>1.322999</td>\n",
       "      <td>1.706705</td>\n",
       "      <td>11465.583810</td>\n",
       "      <td>0.499961</td>\n",
       "      <td>0.783892</td>\n",
       "      <td>0.05864</td>\n",
       "      <td>0.063250</td>\n",
       "      <td>0.073841</td>\n",
       "      <td>0.475605</td>\n",
       "    </tr>\n",
       "    <tr>\n",
       "      <th>min</th>\n",
       "      <td>1.000000</td>\n",
       "      <td>0.000000</td>\n",
       "      <td>0.000000</td>\n",
       "      <td>0.000000</td>\n",
       "      <td>0.000000</td>\n",
       "      <td>0.000000</td>\n",
       "      <td>0.000000</td>\n",
       "      <td>0.000000</td>\n",
       "      <td>0.000000</td>\n",
       "      <td>0.000000</td>\n",
       "      <td>...</td>\n",
       "      <td>-1.000000</td>\n",
       "      <td>0.000000</td>\n",
       "      <td>0.000000</td>\n",
       "      <td>-1.000000</td>\n",
       "      <td>0.000000</td>\n",
       "      <td>-1.000000</td>\n",
       "      <td>-1.00000</td>\n",
       "      <td>-1.000000</td>\n",
       "      <td>0.000000</td>\n",
       "      <td>0.000000</td>\n",
       "    </tr>\n",
       "    <tr>\n",
       "      <th>25%</th>\n",
       "      <td>2.000000</td>\n",
       "      <td>0.000000</td>\n",
       "      <td>0.000000</td>\n",
       "      <td>0.000000</td>\n",
       "      <td>0.000000</td>\n",
       "      <td>0.000000</td>\n",
       "      <td>0.000000</td>\n",
       "      <td>0.000000</td>\n",
       "      <td>0.000000</td>\n",
       "      <td>0.000000</td>\n",
       "      <td>...</td>\n",
       "      <td>1.000000</td>\n",
       "      <td>2.000000</td>\n",
       "      <td>1.000000</td>\n",
       "      <td>292.000000</td>\n",
       "      <td>0.000000</td>\n",
       "      <td>0.000000</td>\n",
       "      <td>0.00000</td>\n",
       "      <td>0.000000</td>\n",
       "      <td>0.000000</td>\n",
       "      <td>0.000000</td>\n",
       "    </tr>\n",
       "    <tr>\n",
       "      <th>50%</th>\n",
       "      <td>2.000000</td>\n",
       "      <td>0.000000</td>\n",
       "      <td>0.000000</td>\n",
       "      <td>0.000000</td>\n",
       "      <td>0.000000</td>\n",
       "      <td>0.000000</td>\n",
       "      <td>0.000000</td>\n",
       "      <td>0.000000</td>\n",
       "      <td>0.000000</td>\n",
       "      <td>0.000000</td>\n",
       "      <td>...</td>\n",
       "      <td>1.000000</td>\n",
       "      <td>2.000000</td>\n",
       "      <td>1.000000</td>\n",
       "      <td>2029.000000</td>\n",
       "      <td>1.000000</td>\n",
       "      <td>0.000000</td>\n",
       "      <td>0.00000</td>\n",
       "      <td>0.000000</td>\n",
       "      <td>0.000000</td>\n",
       "      <td>0.000000</td>\n",
       "    </tr>\n",
       "    <tr>\n",
       "      <th>75%</th>\n",
       "      <td>2.000000</td>\n",
       "      <td>0.000000</td>\n",
       "      <td>0.000000</td>\n",
       "      <td>2.000000</td>\n",
       "      <td>0.000000</td>\n",
       "      <td>0.000000</td>\n",
       "      <td>0.000000</td>\n",
       "      <td>0.000000</td>\n",
       "      <td>0.000000</td>\n",
       "      <td>0.000000</td>\n",
       "      <td>...</td>\n",
       "      <td>1.000000</td>\n",
       "      <td>4.000000</td>\n",
       "      <td>2.000000</td>\n",
       "      <td>10798.000000</td>\n",
       "      <td>1.000000</td>\n",
       "      <td>1.000000</td>\n",
       "      <td>0.00000</td>\n",
       "      <td>0.000000</td>\n",
       "      <td>0.000000</td>\n",
       "      <td>1.000000</td>\n",
       "    </tr>\n",
       "    <tr>\n",
       "      <th>max</th>\n",
       "      <td>24.000000</td>\n",
       "      <td>35.000000</td>\n",
       "      <td>21.000000</td>\n",
       "      <td>44.000000</td>\n",
       "      <td>9.000000</td>\n",
       "      <td>23.000000</td>\n",
       "      <td>43.000000</td>\n",
       "      <td>26.000000</td>\n",
       "      <td>10.000000</td>\n",
       "      <td>9.000000</td>\n",
       "      <td>...</td>\n",
       "      <td>24.000000</td>\n",
       "      <td>20.000000</td>\n",
       "      <td>20.000000</td>\n",
       "      <td>604800.000000</td>\n",
       "      <td>1.000000</td>\n",
       "      <td>17.000000</td>\n",
       "      <td>1.00000</td>\n",
       "      <td>1.000000</td>\n",
       "      <td>1.000000</td>\n",
       "      <td>1.000000</td>\n",
       "    </tr>\n",
       "  </tbody>\n",
       "</table>\n",
       "<p>8 rows × 112 columns</p>\n",
       "</div>"
      ],
      "text/plain": [
       "        qty_dot_url  qty_hyphen_url  qty_underline_url  qty_slash_url  \\\n",
       "count  88647.000000    88647.000000       88647.000000   88647.000000   \n",
       "mean       2.191343        0.328810           0.113879       1.281781   \n",
       "std        1.235636        1.119286           0.657767       1.893929   \n",
       "min        1.000000        0.000000           0.000000       0.000000   \n",
       "25%        2.000000        0.000000           0.000000       0.000000   \n",
       "50%        2.000000        0.000000           0.000000       0.000000   \n",
       "75%        2.000000        0.000000           0.000000       2.000000   \n",
       "max       24.000000       35.000000          21.000000      44.000000   \n",
       "\n",
       "       qty_questionmark_url  qty_equal_url    qty_at_url   qty_and_url  \\\n",
       "count          88647.000000   88647.000000  88647.000000  88647.000000   \n",
       "mean               0.009329       0.205861      0.022133      0.140885   \n",
       "std                0.112568       0.954272      0.279652      0.924864   \n",
       "min                0.000000       0.000000      0.000000      0.000000   \n",
       "25%                0.000000       0.000000      0.000000      0.000000   \n",
       "50%                0.000000       0.000000      0.000000      0.000000   \n",
       "75%                0.000000       0.000000      0.000000      0.000000   \n",
       "max                9.000000      23.000000     43.000000     26.000000   \n",
       "\n",
       "       qty_exclamation_url  qty_space_url  ...  qty_ip_resolved  \\\n",
       "count         88647.000000   88647.000000  ...     88647.000000   \n",
       "mean              0.002944       0.001015  ...         1.136564   \n",
       "std               0.087341       0.072653  ...         0.895146   \n",
       "min               0.000000       0.000000  ...        -1.000000   \n",
       "25%               0.000000       0.000000  ...         1.000000   \n",
       "50%               0.000000       0.000000  ...         1.000000   \n",
       "75%               0.000000       0.000000  ...         1.000000   \n",
       "max              10.000000       9.000000  ...        24.000000   \n",
       "\n",
       "       qty_nameservers  qty_mx_servers   ttl_hostname  tls_ssl_certificate  \\\n",
       "count     88647.000000    88647.000000   88647.000000         88647.000000   \n",
       "mean          2.772412        1.742428    6159.877514             0.506447   \n",
       "std           1.322999        1.706705   11465.583810             0.499961   \n",
       "min           0.000000        0.000000      -1.000000             0.000000   \n",
       "25%           2.000000        1.000000     292.000000             0.000000   \n",
       "50%           2.000000        1.000000    2029.000000             1.000000   \n",
       "75%           4.000000        2.000000   10798.000000             1.000000   \n",
       "max          20.000000       20.000000  604800.000000             1.000000   \n",
       "\n",
       "       qty_redirects  url_google_index  domain_google_index  url_shortened  \\\n",
       "count   88647.000000       88647.00000         88647.000000   88647.000000   \n",
       "mean        0.343903           0.00141             0.002019       0.005482   \n",
       "std         0.783892           0.05864             0.063250       0.073841   \n",
       "min        -1.000000          -1.00000            -1.000000       0.000000   \n",
       "25%         0.000000           0.00000             0.000000       0.000000   \n",
       "50%         0.000000           0.00000             0.000000       0.000000   \n",
       "75%         1.000000           0.00000             0.000000       0.000000   \n",
       "max        17.000000           1.00000             1.000000       1.000000   \n",
       "\n",
       "           phishing  \n",
       "count  88647.000000  \n",
       "mean       0.345720  \n",
       "std        0.475605  \n",
       "min        0.000000  \n",
       "25%        0.000000  \n",
       "50%        0.000000  \n",
       "75%        1.000000  \n",
       "max        1.000000  \n",
       "\n",
       "[8 rows x 112 columns]"
      ]
     },
     "execution_count": 5,
     "metadata": {},
     "output_type": "execute_result"
    }
   ],
   "source": [
    "data.describe()"
   ]
  },
  {
   "cell_type": "markdown",
   "metadata": {},
   "source": [
    "### Checking for null values"
   ]
  },
  {
   "cell_type": "code",
   "execution_count": 6,
   "metadata": {},
   "outputs": [
    {
     "data": {
      "text/plain": [
       "[]"
      ]
     },
     "execution_count": 6,
     "metadata": {},
     "output_type": "execute_result"
    }
   ],
   "source": [
    "features_with_na = [features for features in data.columns if data[features].isnull().sum()>0]\n",
    "features_with_na"
   ]
  },
  {
   "cell_type": "markdown",
   "metadata": {},
   "source": [
    "No colunms with null values found."
   ]
  },
  {
   "cell_type": "markdown",
   "metadata": {},
   "source": [
    "### Separating Numerical features"
   ]
  },
  {
   "cell_type": "code",
   "execution_count": 7,
   "metadata": {},
   "outputs": [
    {
     "data": {
      "text/plain": [
       "['qty_dot_url',\n",
       " 'qty_hyphen_url',\n",
       " 'qty_underline_url',\n",
       " 'qty_slash_url',\n",
       " 'qty_questionmark_url',\n",
       " 'qty_equal_url',\n",
       " 'qty_at_url',\n",
       " 'qty_and_url',\n",
       " 'qty_exclamation_url',\n",
       " 'qty_space_url',\n",
       " 'qty_tilde_url',\n",
       " 'qty_comma_url',\n",
       " 'qty_plus_url',\n",
       " 'qty_asterisk_url',\n",
       " 'qty_hashtag_url',\n",
       " 'qty_dollar_url',\n",
       " 'qty_percent_url',\n",
       " 'qty_tld_url',\n",
       " 'length_url',\n",
       " 'qty_dot_domain',\n",
       " 'qty_hyphen_domain',\n",
       " 'qty_underline_domain',\n",
       " 'qty_slash_domain',\n",
       " 'qty_questionmark_domain',\n",
       " 'qty_equal_domain',\n",
       " 'qty_at_domain',\n",
       " 'qty_and_domain',\n",
       " 'qty_exclamation_domain',\n",
       " 'qty_space_domain',\n",
       " 'qty_tilde_domain',\n",
       " 'qty_comma_domain',\n",
       " 'qty_plus_domain',\n",
       " 'qty_asterisk_domain',\n",
       " 'qty_hashtag_domain',\n",
       " 'qty_dollar_domain',\n",
       " 'qty_percent_domain',\n",
       " 'qty_vowels_domain',\n",
       " 'domain_length',\n",
       " 'domain_in_ip',\n",
       " 'server_client_domain',\n",
       " 'qty_dot_directory',\n",
       " 'qty_hyphen_directory',\n",
       " 'qty_underline_directory',\n",
       " 'qty_slash_directory',\n",
       " 'qty_questionmark_directory',\n",
       " 'qty_equal_directory',\n",
       " 'qty_at_directory',\n",
       " 'qty_and_directory',\n",
       " 'qty_exclamation_directory',\n",
       " 'qty_space_directory',\n",
       " 'qty_tilde_directory',\n",
       " 'qty_comma_directory',\n",
       " 'qty_plus_directory',\n",
       " 'qty_asterisk_directory',\n",
       " 'qty_hashtag_directory',\n",
       " 'qty_dollar_directory',\n",
       " 'qty_percent_directory',\n",
       " 'directory_length',\n",
       " 'qty_dot_file',\n",
       " 'qty_hyphen_file',\n",
       " 'qty_underline_file',\n",
       " 'qty_slash_file',\n",
       " 'qty_questionmark_file',\n",
       " 'qty_equal_file',\n",
       " 'qty_at_file',\n",
       " 'qty_and_file',\n",
       " 'qty_exclamation_file',\n",
       " 'qty_space_file',\n",
       " 'qty_tilde_file',\n",
       " 'qty_comma_file',\n",
       " 'qty_plus_file',\n",
       " 'qty_asterisk_file',\n",
       " 'qty_hashtag_file',\n",
       " 'qty_dollar_file',\n",
       " 'qty_percent_file',\n",
       " 'file_length',\n",
       " 'qty_dot_params',\n",
       " 'qty_hyphen_params',\n",
       " 'qty_underline_params',\n",
       " 'qty_slash_params',\n",
       " 'qty_questionmark_params',\n",
       " 'qty_equal_params',\n",
       " 'qty_at_params',\n",
       " 'qty_and_params',\n",
       " 'qty_exclamation_params',\n",
       " 'qty_space_params',\n",
       " 'qty_tilde_params',\n",
       " 'qty_comma_params',\n",
       " 'qty_plus_params',\n",
       " 'qty_asterisk_params',\n",
       " 'qty_hashtag_params',\n",
       " 'qty_dollar_params',\n",
       " 'qty_percent_params',\n",
       " 'params_length',\n",
       " 'tld_present_params',\n",
       " 'qty_params',\n",
       " 'email_in_url',\n",
       " 'time_response',\n",
       " 'domain_spf',\n",
       " 'asn_ip',\n",
       " 'time_domain_activation',\n",
       " 'time_domain_expiration',\n",
       " 'qty_ip_resolved',\n",
       " 'qty_nameservers',\n",
       " 'qty_mx_servers',\n",
       " 'ttl_hostname',\n",
       " 'tls_ssl_certificate',\n",
       " 'qty_redirects',\n",
       " 'url_google_index',\n",
       " 'domain_google_index',\n",
       " 'url_shortened',\n",
       " 'phishing']"
      ]
     },
     "execution_count": 7,
     "metadata": {},
     "output_type": "execute_result"
    }
   ],
   "source": [
    "num_features = [feature for feature in data.columns if data[feature].dtype != 'O']\n",
    "num_features"
   ]
  },
  {
   "cell_type": "markdown",
   "metadata": {},
   "source": [
    "### Discrete Features"
   ]
  },
  {
   "cell_type": "code",
   "execution_count": 8,
   "metadata": {},
   "outputs": [
    {
     "data": {
      "text/plain": [
       "['qty_underline_domain',\n",
       " 'qty_slash_domain',\n",
       " 'qty_questionmark_domain',\n",
       " 'qty_equal_domain',\n",
       " 'qty_at_domain',\n",
       " 'qty_and_domain',\n",
       " 'qty_exclamation_domain',\n",
       " 'qty_space_domain',\n",
       " 'qty_tilde_domain',\n",
       " 'qty_comma_domain',\n",
       " 'qty_plus_domain',\n",
       " 'qty_asterisk_domain',\n",
       " 'qty_hashtag_domain',\n",
       " 'qty_dollar_domain',\n",
       " 'qty_percent_domain',\n",
       " 'domain_in_ip',\n",
       " 'server_client_domain',\n",
       " 'qty_questionmark_directory',\n",
       " 'qty_comma_directory',\n",
       " 'qty_hashtag_directory',\n",
       " 'qty_slash_file',\n",
       " 'qty_questionmark_file',\n",
       " 'qty_equal_file',\n",
       " 'qty_at_file',\n",
       " 'qty_and_file',\n",
       " 'qty_exclamation_file',\n",
       " 'qty_hashtag_file',\n",
       " 'qty_dollar_file',\n",
       " 'qty_space_params',\n",
       " 'qty_tilde_params',\n",
       " 'qty_asterisk_params',\n",
       " 'qty_hashtag_params',\n",
       " 'qty_dollar_params',\n",
       " 'tld_present_params',\n",
       " 'email_in_url',\n",
       " 'domain_spf',\n",
       " 'tls_ssl_certificate',\n",
       " 'url_google_index',\n",
       " 'domain_google_index',\n",
       " 'url_shortened',\n",
       " 'phishing']"
      ]
     },
     "execution_count": 8,
     "metadata": {},
     "output_type": "execute_result"
    }
   ],
   "source": [
    "discrete_feature = [feature for feature in num_features if len(data[feature].unique())<6]\n",
    "discrete_feature"
   ]
  },
  {
   "cell_type": "code",
   "execution_count": 9,
   "metadata": {},
   "outputs": [
    {
     "data": {
      "text/plain": [
       "41"
      ]
     },
     "execution_count": 9,
     "metadata": {},
     "output_type": "execute_result"
    }
   ],
   "source": [
    "len(discrete_feature)"
   ]
  },
  {
   "cell_type": "code",
   "execution_count": 10,
   "metadata": {},
   "outputs": [
    {
     "data": {
      "text/plain": [
       "['qty_dot_url',\n",
       " 'qty_hyphen_url',\n",
       " 'qty_underline_url',\n",
       " 'qty_slash_url',\n",
       " 'qty_questionmark_url',\n",
       " 'qty_equal_url',\n",
       " 'qty_at_url',\n",
       " 'qty_and_url',\n",
       " 'qty_exclamation_url',\n",
       " 'qty_space_url',\n",
       " 'qty_tilde_url',\n",
       " 'qty_comma_url',\n",
       " 'qty_plus_url',\n",
       " 'qty_asterisk_url',\n",
       " 'qty_hashtag_url',\n",
       " 'qty_dollar_url',\n",
       " 'qty_percent_url',\n",
       " 'qty_tld_url',\n",
       " 'length_url',\n",
       " 'qty_dot_domain',\n",
       " 'qty_hyphen_domain',\n",
       " 'qty_vowels_domain',\n",
       " 'domain_length',\n",
       " 'qty_dot_directory',\n",
       " 'qty_hyphen_directory',\n",
       " 'qty_underline_directory',\n",
       " 'qty_slash_directory',\n",
       " 'qty_equal_directory',\n",
       " 'qty_at_directory',\n",
       " 'qty_and_directory',\n",
       " 'qty_exclamation_directory',\n",
       " 'qty_space_directory',\n",
       " 'qty_tilde_directory',\n",
       " 'qty_plus_directory',\n",
       " 'qty_asterisk_directory',\n",
       " 'qty_dollar_directory',\n",
       " 'qty_percent_directory',\n",
       " 'directory_length',\n",
       " 'qty_dot_file',\n",
       " 'qty_hyphen_file',\n",
       " 'qty_underline_file',\n",
       " 'qty_space_file',\n",
       " 'qty_tilde_file',\n",
       " 'qty_comma_file',\n",
       " 'qty_plus_file',\n",
       " 'qty_asterisk_file',\n",
       " 'qty_percent_file',\n",
       " 'file_length',\n",
       " 'qty_dot_params',\n",
       " 'qty_hyphen_params',\n",
       " 'qty_underline_params',\n",
       " 'qty_slash_params',\n",
       " 'qty_questionmark_params',\n",
       " 'qty_equal_params',\n",
       " 'qty_at_params',\n",
       " 'qty_and_params',\n",
       " 'qty_exclamation_params',\n",
       " 'qty_comma_params',\n",
       " 'qty_plus_params',\n",
       " 'qty_percent_params',\n",
       " 'params_length',\n",
       " 'qty_params',\n",
       " 'time_response',\n",
       " 'asn_ip',\n",
       " 'time_domain_activation',\n",
       " 'time_domain_expiration',\n",
       " 'qty_ip_resolved',\n",
       " 'qty_nameservers',\n",
       " 'qty_mx_servers',\n",
       " 'ttl_hostname',\n",
       " 'qty_redirects']"
      ]
     },
     "execution_count": 10,
     "metadata": {},
     "output_type": "execute_result"
    }
   ],
   "source": [
    "cont_feature = [features for features in num_features if features not in discrete_feature]\n",
    "cont_feature"
   ]
  },
  {
   "cell_type": "code",
   "execution_count": 11,
   "metadata": {},
   "outputs": [
    {
     "data": {
      "text/plain": [
       "71"
      ]
     },
     "execution_count": 11,
     "metadata": {},
     "output_type": "execute_result"
    }
   ],
   "source": [
    "len(cont_feature)"
   ]
  },
  {
   "cell_type": "markdown",
   "metadata": {},
   "source": [
    "### Categorical features"
   ]
  },
  {
   "cell_type": "code",
   "execution_count": 12,
   "metadata": {},
   "outputs": [
    {
     "data": {
      "text/plain": [
       "[]"
      ]
     },
     "execution_count": 12,
     "metadata": {},
     "output_type": "execute_result"
    }
   ],
   "source": [
    "cat_features = [features for features in data.columns if data[features].dtype=='O']\n",
    "cat_features"
   ]
  },
  {
   "cell_type": "markdown",
   "metadata": {},
   "source": [
    "### Dependent and Independent features split"
   ]
  },
  {
   "cell_type": "code",
   "execution_count": 13,
   "metadata": {},
   "outputs": [],
   "source": [
    "X = data.iloc[:,:-1]\n",
    "y= data.iloc[:,-1]"
   ]
  },
  {
   "cell_type": "markdown",
   "metadata": {},
   "source": [
    "### Balanced Dataset"
   ]
  },
  {
   "cell_type": "code",
   "execution_count": 14,
   "metadata": {},
   "outputs": [
    {
     "data": {
      "image/png": "[encoded data removed]",
      "text/plain": [
       "<Figure size 640x480 with 1 Axes>"
      ]
     },
     "metadata": {},
     "output_type": "display_data"
    },
    {
     "name": "stdout",
     "output_type": "stream",
     "text": [
      "(58000, 112)\n",
      "(30647, 112)\n"
     ]
    }
   ],
   "source": [
    "sns.set_style(\"darkgrid\")\n",
    "sns.countplot(np.ravel(y))\n",
    "plt.show()\n",
    "print(data[data[\"phishing\"]==0].shape)\n",
    "print(data[data[\"phishing\"]==1].shape)"
   ]
  },
  {
   "cell_type": "code",
   "execution_count": 15,
   "metadata": {},
   "outputs": [
    {
     "name": "stdout",
     "output_type": "stream",
     "text": [
      "(58000, 112)\n",
      "(58000, 112)\n"
     ]
    }
   ],
   "source": [
    "from imblearn.over_sampling import RandomOverSampler\n",
    "rdm=RandomOverSampler()\n",
    "X,y=rdm.fit_resample(X,y)\n",
    "data=pd.concat([X,y],axis=1)  #updating the balanced form of dataset\n",
    "print(data[data[\"phishing\"]==0].shape)\n",
    "print(data[data[\"phishing\"]==1].shape)"
   ]
  },
  {
   "cell_type": "code",
   "execution_count": 16,
   "metadata": {},
   "outputs": [
    {
     "data": {
      "image/png": "[encoded data removed]",
      "text/plain": [
       "<Figure size 640x480 with 1 Axes>"
      ]
     },
     "metadata": {},
     "output_type": "display_data"
    }
   ],
   "source": [
    "sns.set_style(\"darkgrid\")\n",
    "sns.countplot(np.ravel(y))\n",
    "plt.show()"
   ]
  },
  {
   "cell_type": "markdown",
   "metadata": {},
   "source": [
    "### Train Test Split"
   ]
  },
  {
   "cell_type": "code",
   "execution_count": 17,
   "metadata": {},
   "outputs": [
    {
     "name": "stdout",
     "output_type": "stream",
     "text": [
      "(77720, 111)\n",
      "(77720,)\n",
      "(38280, 111)\n",
      "(38280,)\n"
     ]
    }
   ],
   "source": [
    "from sklearn.model_selection import train_test_split\n",
    "\n",
    "X_train, X_test, y_train, y_test = train_test_split(X, y, random_state=42, test_size=0.33)\n",
    "print(X_train.shape)\n",
    "print(y_train.shape)\n",
    "print(X_test.shape)\n",
    "print(y_test.shape)"
   ]
  },
  {
   "cell_type": "markdown",
   "metadata": {},
   "source": [
    "### Feature Selection"
   ]
  },
  {
   "cell_type": "code",
   "execution_count": 18,
   "metadata": {},
   "outputs": [],
   "source": [
    "from sklearn.feature_selection import SelectFromModel\n",
    "from sklearn.ensemble import AdaBoostClassifier"
   ]
  },
  {
   "cell_type": "code",
   "execution_count": 19,
   "metadata": {},
   "outputs": [],
   "source": [
    "estimator = AdaBoostClassifier(random_state=42, n_estimators=50)\n",
    "selector = SelectFromModel(estimator)\n",
    "selector = selector.fit(X_train, y_train) "
   ]
  },
  {
   "cell_type": "code",
   "execution_count": 20,
   "metadata": {},
   "outputs": [
    {
     "name": "stdout",
     "output_type": "stream",
     "text": [
      "All features: 111\n",
      "['qty_dot_url' 'qty_hyphen_url' 'qty_underline_url' 'qty_slash_url'\n",
      " 'qty_questionmark_url' 'qty_equal_url' 'qty_at_url' 'qty_and_url'\n",
      " 'qty_exclamation_url' 'qty_space_url' 'qty_tilde_url' 'qty_comma_url'\n",
      " 'qty_plus_url' 'qty_asterisk_url' 'qty_hashtag_url' 'qty_dollar_url'\n",
      " 'qty_percent_url' 'qty_tld_url' 'length_url' 'qty_dot_domain'\n",
      " 'qty_hyphen_domain' 'qty_underline_domain' 'qty_slash_domain'\n",
      " 'qty_questionmark_domain' 'qty_equal_domain' 'qty_at_domain'\n",
      " 'qty_and_domain' 'qty_exclamation_domain' 'qty_space_domain'\n",
      " 'qty_tilde_domain' 'qty_comma_domain' 'qty_plus_domain'\n",
      " 'qty_asterisk_domain' 'qty_hashtag_domain' 'qty_dollar_domain'\n",
      " 'qty_percent_domain' 'qty_vowels_domain' 'domain_length' 'domain_in_ip'\n",
      " 'server_client_domain' 'qty_dot_directory' 'qty_hyphen_directory'\n",
      " 'qty_underline_directory' 'qty_slash_directory'\n",
      " 'qty_questionmark_directory' 'qty_equal_directory' 'qty_at_directory'\n",
      " 'qty_and_directory' 'qty_exclamation_directory' 'qty_space_directory'\n",
      " 'qty_tilde_directory' 'qty_comma_directory' 'qty_plus_directory'\n",
      " 'qty_asterisk_directory' 'qty_hashtag_directory' 'qty_dollar_directory'\n",
      " 'qty_percent_directory' 'directory_length' 'qty_dot_file'\n",
      " 'qty_hyphen_file' 'qty_underline_file' 'qty_slash_file'\n",
      " 'qty_questionmark_file' 'qty_equal_file' 'qty_at_file' 'qty_and_file'\n",
      " 'qty_exclamation_file' 'qty_space_file' 'qty_tilde_file' 'qty_comma_file'\n",
      " 'qty_plus_file' 'qty_asterisk_file' 'qty_hashtag_file' 'qty_dollar_file'\n",
      " 'qty_percent_file' 'file_length' 'qty_dot_params' 'qty_hyphen_params'\n",
      " 'qty_underline_params' 'qty_slash_params' 'qty_questionmark_params'\n",
      " 'qty_equal_params' 'qty_at_params' 'qty_and_params'\n",
      " 'qty_exclamation_params' 'qty_space_params' 'qty_tilde_params'\n",
      " 'qty_comma_params' 'qty_plus_params' 'qty_asterisk_params'\n",
      " 'qty_hashtag_params' 'qty_dollar_params' 'qty_percent_params'\n",
      " 'params_length' 'tld_present_params' 'qty_params' 'email_in_url'\n",
      " 'time_response' 'domain_spf' 'asn_ip' 'time_domain_activation'\n",
      " 'time_domain_expiration' 'qty_ip_resolved' 'qty_nameservers'\n",
      " 'qty_mx_servers' 'ttl_hostname' 'tls_ssl_certificate' 'qty_redirects'\n",
      " 'url_google_index' 'domain_google_index' 'url_shortened']\n"
     ]
    }
   ],
   "source": [
    "features = np.array(X_train.columns)\n",
    "print(\"All features: {}\".format(len(X_train.columns)))\n",
    "print(features) "
   ]
  },
  {
   "cell_type": "code",
   "execution_count": 21,
   "metadata": {},
   "outputs": [
    {
     "name": "stdout",
     "output_type": "stream",
     "text": [
      "Selected features:\n",
      "['qty_slash_url' 'qty_at_url' 'qty_tld_url' 'length_url' 'qty_dot_domain'\n",
      " 'qty_hyphen_domain' 'qty_vowels_domain' 'domain_length'\n",
      " 'qty_hyphen_directory' 'qty_equal_directory' 'qty_dollar_directory'\n",
      " 'directory_length' 'qty_asterisk_file' 'file_length' 'params_length'\n",
      " 'time_response' 'domain_spf' 'asn_ip' 'time_domain_activation'\n",
      " 'qty_ip_resolved' 'qty_nameservers' 'qty_mx_servers' 'ttl_hostname'\n",
      " 'tls_ssl_certificate' 'url_shortened']\n"
     ]
    }
   ],
   "source": [
    "status = selector.get_support()\n",
    "print(\"Selected features:\".format(len(X_train.columns)))\n",
    "print(features[status])"
   ]
  },
  {
   "cell_type": "code",
   "execution_count": 22,
   "metadata": {},
   "outputs": [
    {
     "name": "stdout",
     "output_type": "stream",
     "text": [
      "Index(['qty_slash_url', 'qty_at_url', 'qty_tld_url', 'length_url',\n",
      "       'qty_dot_domain', 'qty_hyphen_domain', 'qty_vowels_domain',\n",
      "       'domain_length', 'qty_hyphen_directory', 'qty_equal_directory',\n",
      "       'qty_dollar_directory', 'directory_length', 'qty_asterisk_file',\n",
      "       'file_length', 'params_length', 'time_response', 'domain_spf', 'asn_ip',\n",
      "       'time_domain_activation', 'qty_ip_resolved', 'qty_nameservers',\n",
      "       'qty_mx_servers', 'ttl_hostname', 'tls_ssl_certificate',\n",
      "       'url_shortened'],\n",
      "      dtype='object')\n",
      "Index(['qty_slash_url', 'qty_at_url', 'qty_tld_url', 'length_url',\n",
      "       'qty_dot_domain', 'qty_hyphen_domain', 'qty_vowels_domain',\n",
      "       'domain_length', 'qty_hyphen_directory', 'qty_equal_directory',\n",
      "       'qty_dollar_directory', 'directory_length', 'qty_asterisk_file',\n",
      "       'file_length', 'params_length', 'time_response', 'domain_spf', 'asn_ip',\n",
      "       'time_domain_activation', 'qty_ip_resolved', 'qty_nameservers',\n",
      "       'qty_mx_servers', 'ttl_hostname', 'tls_ssl_certificate',\n",
      "       'url_shortened'],\n",
      "      dtype='object')\n"
     ]
    }
   ],
   "source": [
    "X_train=X_train[features[status]]\n",
    "X_test=X_test[features[status]]\n",
    "print(X_train.columns)\n",
    "print(X_test.columns)"
   ]
  },
  {
   "cell_type": "code",
   "execution_count": 23,
   "metadata": {},
   "outputs": [
    {
     "name": "stdout",
     "output_type": "stream",
     "text": [
      "25 features selected.\n"
     ]
    }
   ],
   "source": [
    "print(len(X_train.columns),\"features selected.\")"
   ]
  },
  {
   "cell_type": "code",
   "execution_count": null,
   "metadata": {},
   "outputs": [],
   "source": []
  },
  {
   "cell_type": "markdown",
   "metadata": {},
   "source": [
    "### Model"
   ]
  },
  {
   "cell_type": "code",
   "execution_count": 24,
   "metadata": {},
   "outputs": [],
   "source": [
    "from sklearn.metrics import accuracy_score,confusion_matrix,precision_recall_curve,roc_auc_score,f1_score,classification_report\n",
    "from sklearn.metrics import roc_curve, plot_roc_curve\n",
    "from sklearn.metrics import precision_recall_fscore_support\n",
    "\n",
    "def model_report(model):\n",
    "    print(confusion_matrix(y_test,model.predict(X_test)))\n",
    "    print()\n",
    "    print(classification_report(y_test,model.predict(X_test)))\n",
    "    print()\n",
    "    print('roc_auc_score: ', roc_auc_score(y_test, model.predict(X_test)))\n",
    "    print()\n",
    "    print(\"train set accuracy score :\",accuracy_score(y_train,model.predict(X_train)))\n",
    "    print(\"test set accuracy score :\",  accuracy_score(y_test,model.predict(X_test)))\n",
    "    print()\n",
    "    precision, recall, f1_score, _ = precision_recall_fscore_support(y_test, model.predict(X_test), average='binary')\n",
    "    p, r, f, _ = precision_recall_fscore_support(y_test, model.predict(X_test), average='binary')\n",
    "    print('train set precision: ', precision)\n",
    "    print('test set precision: ', p)\n",
    "    print()\n",
    "    print('train set recall: ', recall)\n",
    "    print('test set recall: ', r)\n",
    "    print()\n",
    "    print('train set f1-score: ', f1_score)\n",
    "    print('test set f1-score: ', f)\n",
    "    plot_roc_curve(model,X_test,y_test)"
   ]
  },
  {
   "cell_type": "code",
   "execution_count": 25,
   "metadata": {},
   "outputs": [],
   "source": [
    "def model_pred(model,y_test):\n",
    "    print()\n",
    "    y_pred=model.predict(X_test)\n",
    "    y_pred=pd.DataFrame(y_pred,columns=['Pred'],index=None)\n",
    "    y_test=np.ravel(y_test)\n",
    "    y_test=pd.DataFrame(y_test,columns=['Actual'],index=None)\n",
    "    print(pd.concat([y_test,y_pred], axis=1))"
   ]
  },
  {
   "cell_type": "markdown",
   "metadata": {},
   "source": [
    "### Logisitic Regression"
   ]
  },
  {
   "cell_type": "code",
   "execution_count": 26,
   "metadata": {},
   "outputs": [
    {
     "data": {
      "text/plain": [
       "LogisticRegression()"
      ]
     },
     "execution_count": 26,
     "metadata": {},
     "output_type": "execute_result"
    }
   ],
   "source": [
    "from sklearn.model_selection import GridSearchCV\n",
    "from sklearn.linear_model import LogisticRegression\n",
    "\n",
    "lr_model = LogisticRegression()#C=0.5,penalty='l2'\n",
    "\n",
    "lr_model.fit(X_train,y_train)"
   ]
  },
  {
   "cell_type": "code",
   "execution_count": 27,
   "metadata": {},
   "outputs": [
    {
     "name": "stdout",
     "output_type": "stream",
     "text": [
      "[[18039  1310]\n",
      " [ 3135 15796]]\n",
      "\n",
      "              precision    recall  f1-score   support\n",
      "\n",
      "           0       0.85      0.93      0.89     19349\n",
      "           1       0.92      0.83      0.88     18931\n",
      "\n",
      "    accuracy                           0.88     38280\n",
      "   macro avg       0.89      0.88      0.88     38280\n",
      "weighted avg       0.89      0.88      0.88     38280\n",
      "\n",
      "\n",
      "roc_auc_score:  0.8833474240809109\n",
      "\n",
      "train set accuracy score : 0.8815620174987133\n",
      "test set accuracy score : 0.8838819226750261\n",
      "\n",
      "train set precision:  0.9234186835028645\n",
      "test set precision:  0.9234186835028645\n",
      "\n",
      "train set recall:  0.8343986054619408\n",
      "test set recall:  0.8343986054619408\n",
      "\n",
      "train set f1-score:  0.8766545494908012\n",
      "test set f1-score:  0.8766545494908012\n",
      "\n",
      "       Actual  Pred\n",
      "0           1     1\n",
      "1           1     1\n",
      "2           1     1\n",
      "3           0     0\n",
      "4           1     0\n",
      "...       ...   ...\n",
      "38275       0     0\n",
      "38276       0     0\n",
      "38277       1     0\n",
      "38278       1     1\n",
      "38279       0     0\n",
      "\n",
      "[38280 rows x 2 columns]\n"
     ]
    },
    {
     "data": {
      "image/png": "[encoded data removed]",
      "text/plain": [
       "<Figure size 640x480 with 1 Axes>"
      ]
     },
     "metadata": {},
     "output_type": "display_data"
    }
   ],
   "source": [
    "model_report(lr_model)\n",
    "model_pred(lr_model, y_test)"
   ]
  },
  {
   "cell_type": "markdown",
   "metadata": {},
   "source": [
    "### Random Forest"
   ]
  },
  {
   "cell_type": "code",
   "execution_count": 28,
   "metadata": {},
   "outputs": [
    {
     "data": {
      "text/plain": [
       "RandomForestClassifier(random_state=42)"
      ]
     },
     "execution_count": 28,
     "metadata": {},
     "output_type": "execute_result"
    }
   ],
   "source": [
    "from sklearn.model_selection import GridSearchCV\n",
    "from sklearn.ensemble import RandomForestClassifier\n",
    "\n",
    "rf_model = RandomForestClassifier(random_state=42)#criterion= 'gini',max_depth=20, max_features='auto',n_estimators=100,\n",
    "rf_model.fit(X_train,y_train)"
   ]
  },
  {
   "cell_type": "code",
   "execution_count": 29,
   "metadata": {},
   "outputs": [
    {
     "name": "stdout",
     "output_type": "stream",
     "text": [
      "[[18775   574]\n",
      " [  248 18683]]\n",
      "\n",
      "              precision    recall  f1-score   support\n",
      "\n",
      "           0       0.99      0.97      0.98     19349\n",
      "           1       0.97      0.99      0.98     18931\n",
      "\n",
      "    accuracy                           0.98     38280\n",
      "   macro avg       0.98      0.98      0.98     38280\n",
      "weighted avg       0.98      0.98      0.98     38280\n",
      "\n",
      "\n",
      "roc_auc_score:  0.978617089097299\n",
      "\n",
      "train set accuracy score : 0.9999485331960886\n",
      "test set accuracy score : 0.9785266457680251\n",
      "\n",
      "train set precision:  0.970192657215558\n",
      "test set precision:  0.970192657215558\n",
      "\n",
      "train set recall:  0.9868997939886958\n",
      "test set recall:  0.9868997939886958\n",
      "\n",
      "train set f1-score:  0.9784749135854195\n",
      "test set f1-score:  0.9784749135854195\n",
      "\n",
      "       Actual  Pred\n",
      "0           1     1\n",
      "1           1     1\n",
      "2           1     1\n",
      "3           0     0\n",
      "4           1     1\n",
      "...       ...   ...\n",
      "38275       0     0\n",
      "38276       0     0\n",
      "38277       1     1\n",
      "38278       1     1\n",
      "38279       0     0\n",
      "\n",
      "[38280 rows x 2 columns]\n"
     ]
    },
    {
     "data": {
      "image/png": "[encoded data removed]",
      "text/plain": [
       "<Figure size 640x480 with 1 Axes>"
      ]
     },
     "metadata": {},
     "output_type": "display_data"
    }
   ],
   "source": [
    "model_report(rf_model)\n",
    "model_pred(rf_model,y_test)"
   ]
  },
  {
   "cell_type": "markdown",
   "metadata": {},
   "source": [
    "### Gradient Boosting"
   ]
  },
  {
   "cell_type": "code",
   "execution_count": 30,
   "metadata": {},
   "outputs": [
    {
     "data": {
      "text/plain": [
       "GradientBoostingClassifier(random_state=42)"
      ]
     },
     "execution_count": 30,
     "metadata": {},
     "output_type": "execute_result"
    }
   ],
   "source": [
    "from sklearn.ensemble import GradientBoostingClassifier\n",
    "\n",
    "gb_model = GradientBoostingClassifier(random_state=42)#n_estimators=200, learning_rate=0.1, max_depth = 10 ,\n",
    "gb_model.fit(X_train, y_train)"
   ]
  },
  {
   "cell_type": "code",
   "execution_count": 31,
   "metadata": {},
   "outputs": [
    {
     "name": "stdout",
     "output_type": "stream",
     "text": [
      "[[18265  1084]\n",
      " [  752 18179]]\n",
      "\n",
      "              precision    recall  f1-score   support\n",
      "\n",
      "           0       0.96      0.94      0.95     19349\n",
      "           1       0.94      0.96      0.95     18931\n",
      "\n",
      "    accuracy                           0.95     38280\n",
      "   macro avg       0.95      0.95      0.95     38280\n",
      "weighted avg       0.95      0.95      0.95     38280\n",
      "\n",
      "\n",
      "roc_auc_score:  0.9521266137829943\n",
      "\n",
      "train set accuracy score : 0.953255275347401\n",
      "test set accuracy score : 0.9520376175548589\n",
      "\n",
      "train set precision:  0.9437263146965685\n",
      "test set precision:  0.9437263146965685\n",
      "\n",
      "train set recall:  0.9602767946754002\n",
      "test set recall:  0.9602767946754002\n",
      "\n",
      "train set f1-score:  0.9519296224537886\n",
      "test set f1-score:  0.9519296224537886\n",
      "\n",
      "       Actual  Pred\n",
      "0           1     1\n",
      "1           1     1\n",
      "2           1     1\n",
      "3           0     0\n",
      "4           1     1\n",
      "...       ...   ...\n",
      "38275       0     0\n",
      "38276       0     0\n",
      "38277       1     0\n",
      "38278       1     1\n",
      "38279       0     0\n",
      "\n",
      "[38280 rows x 2 columns]\n"
     ]
    },
    {
     "data": {
      "image/png": "[encoded data removed]",
      "text/plain": [
       "<Figure size 640x480 with 1 Axes>"
      ]
     },
     "metadata": {},
     "output_type": "display_data"
    }
   ],
   "source": [
    "model_report(gb_model)\n",
    "model_pred(gb_model,y_test)"
   ]
  },
  {
   "cell_type": "markdown",
   "metadata": {},
   "source": [
    "### XGBoost Classifier"
   ]
  },
  {
   "cell_type": "code",
   "execution_count": 32,
   "metadata": {},
   "outputs": [
    {
     "data": {
      "text/plain": [
       "XGBClassifier(base_score=None, booster=None, callbacks=None,\n",
       "              colsample_bylevel=None, colsample_bynode=None,\n",
       "              colsample_bytree=None, early_stopping_rounds=None,\n",
       "              enable_categorical=False, eval_metric=None, feature_types=None,\n",
       "              gamma=None, gpu_id=None, grow_policy=None, importance_type=None,\n",
       "              interaction_constraints=None, learning_rate=None, max_bin=None,\n",
       "              max_cat_threshold=None, max_cat_to_onehot=None,\n",
       "              max_delta_step=None, max_depth=None, max_leaves=None,\n",
       "              min_child_weight=None, missing=nan, monotone_constraints=None,\n",
       "              n_estimators=100, n_jobs=None, num_parallel_tree=None,\n",
       "              predictor=None, random_state=42, ...)"
      ]
     },
     "execution_count": 32,
     "metadata": {},
     "output_type": "execute_result"
    }
   ],
   "source": [
    "from xgboost import XGBClassifier\n",
    "\n",
    "xgb_model = XGBClassifier(random_state=42)#n_estimators=200, learning_rate=0.1, max_depth=10, \n",
    "xgb_model.fit(X_train, y_train)"
   ]
  },
  {
   "cell_type": "code",
   "execution_count": 33,
   "metadata": {},
   "outputs": [
    {
     "name": "stdout",
     "output_type": "stream",
     "text": [
      "[[18744   605]\n",
      " [  459 18472]]\n",
      "\n",
      "              precision    recall  f1-score   support\n",
      "\n",
      "           0       0.98      0.97      0.97     19349\n",
      "           1       0.97      0.98      0.97     18931\n",
      "\n",
      "    accuracy                           0.97     38280\n",
      "   macro avg       0.97      0.97      0.97     38280\n",
      "weighted avg       0.97      0.97      0.97     38280\n",
      "\n",
      "\n",
      "roc_auc_score:  0.9722431442104056\n",
      "\n",
      "train set accuracy score : 0.9825141533710756\n",
      "test set accuracy score : 0.9722048066875653\n",
      "\n",
      "train set precision:  0.9682864181999267\n",
      "test set precision:  0.9682864181999267\n",
      "\n",
      "train set recall:  0.97575405419682\n",
      "test set recall:  0.97575405419682\n",
      "\n",
      "train set f1-score:  0.9720058934961061\n",
      "test set f1-score:  0.9720058934961061\n",
      "\n",
      "       Actual  Pred\n",
      "0           1     1\n",
      "1           1     1\n",
      "2           1     1\n",
      "3           0     0\n",
      "4           1     1\n",
      "...       ...   ...\n",
      "38275       0     0\n",
      "38276       0     0\n",
      "38277       1     1\n",
      "38278       1     1\n",
      "38279       0     0\n",
      "\n",
      "[38280 rows x 2 columns]\n"
     ]
    },
    {
     "data": {
      "image/png": "[encoded data removed]",
      "text/plain": [
       "<Figure size 640x480 with 1 Axes>"
      ]
     },
     "metadata": {},
     "output_type": "display_data"
    }
   ],
   "source": [
    "model_report(xgb_model)\n",
    "model_pred(xgb_model,y_test)"
   ]
  },
  {
   "cell_type": "markdown",
   "metadata": {},
   "source": [
    "### Test on new data"
   ]
  },
  {
   "cell_type": "code",
   "execution_count": 34,
   "metadata": {},
   "outputs": [],
   "source": [
    "def report(model):\n",
    "    print(confusion_matrix(y,model.predict(X)))\n",
    "    print()\n",
    "    print(classification_report(y,model.predict(X)))\n",
    "    print()\n",
    "    print('roc_auc_score: ', roc_auc_score(y, model.predict(X)))\n",
    "    print()\n",
    "    print(\"test set accuracy score :\",  accuracy_score(y,model.predict(X)))\n",
    "    print()\n",
    "    p, r, f, _ = precision_recall_fscore_support(y, model.predict(X), average='binary')\n",
    "    print('test set precision: ', p)\n",
    "    print()\n",
    "    print('test set recall: ', r)\n",
    "    print()\n",
    "    print('test set f1-score: ', f)\n",
    "    plot_roc_curve(model,X,y)"
   ]
  },
  {
   "cell_type": "code",
   "execution_count": 35,
   "metadata": {},
   "outputs": [],
   "source": [
    "df = pd.read_csv(\"../data/dataset_small.csv\")"
   ]
  },
  {
   "cell_type": "code",
   "execution_count": 36,
   "metadata": {},
   "outputs": [],
   "source": [
    "X = df.iloc[:,:-1]\n",
    "y = df.iloc[:,-1]"
   ]
  },
  {
   "cell_type": "code",
   "execution_count": 37,
   "metadata": {},
   "outputs": [],
   "source": [
    "X=X[features[status]]"
   ]
  },
  {
   "cell_type": "code",
   "execution_count": 39,
   "metadata": {},
   "outputs": [
    {
     "name": "stdout",
     "output_type": "stream",
     "text": [
      "[[24189  3809]\n",
      " [ 5096 25551]]\n",
      "\n",
      "              precision    recall  f1-score   support\n",
      "\n",
      "           0       0.83      0.86      0.84     27998\n",
      "           1       0.87      0.83      0.85     30647\n",
      "\n",
      "    accuracy                           0.85     58645\n",
      "   macro avg       0.85      0.85      0.85     58645\n",
      "weighted avg       0.85      0.85      0.85     58645\n",
      "\n",
      "\n",
      "roc_auc_score:  0.8488370093503106\n",
      "\n",
      "test set accuracy score : 0.8481541478386905\n",
      "\n",
      "test set precision:  0.8702656675749318\n",
      "\n",
      "test set recall:  0.8337194505171795\n",
      "\n",
      "test set f1-score:  0.851600646591231\n"
     ]
    },
    {
     "data": {
      "image/png": "[encoded data removed]",
      "text/plain": [
       "<Figure size 640x480 with 1 Axes>"
      ]
     },
     "metadata": {},
     "output_type": "display_data"
    }
   ],
   "source": [
    "report(lr_model)"
   ]
  },
  {
   "cell_type": "code",
   "execution_count": 40,
   "metadata": {},
   "outputs": [
    {
     "name": "stdout",
     "output_type": "stream",
     "text": [
      "[[27434   564]\n",
      " [  192 30455]]\n",
      "\n",
      "              precision    recall  f1-score   support\n",
      "\n",
      "           0       0.99      0.98      0.99     27998\n",
      "           1       0.98      0.99      0.99     30647\n",
      "\n",
      "    accuracy                           0.99     58645\n",
      "   macro avg       0.99      0.99      0.99     58645\n",
      "weighted avg       0.99      0.99      0.99     58645\n",
      "\n",
      "\n",
      "roc_auc_score:  0.9867954083570984\n",
      "\n",
      "test set accuracy score : 0.9871088754369511\n",
      "\n",
      "test set precision:  0.9818175956671717\n",
      "\n",
      "test set recall:  0.9937351127353411\n",
      "\n",
      "test set f1-score:  0.9877404080044109\n"
     ]
    },
    {
     "data": {
      "image/png": "[encoded data removed]",
      "text/plain": [
       "<Figure size 640x480 with 1 Axes>"
      ]
     },
     "metadata": {},
     "output_type": "display_data"
    }
   ],
   "source": [
    "report(rf_model)"
   ]
  },
  {
   "cell_type": "code",
   "execution_count": 41,
   "metadata": {},
   "outputs": [
    {
     "name": "stdout",
     "output_type": "stream",
     "text": [
      "[[24773  3225]\n",
      " [ 1157 29490]]\n",
      "\n",
      "              precision    recall  f1-score   support\n",
      "\n",
      "           0       0.96      0.88      0.92     27998\n",
      "           1       0.90      0.96      0.93     30647\n",
      "\n",
      "    accuracy                           0.93     58645\n",
      "   macro avg       0.93      0.92      0.92     58645\n",
      "weighted avg       0.93      0.93      0.93     58645\n",
      "\n",
      "\n",
      "roc_auc_score:  0.9235303646245604\n",
      "\n",
      "test set accuracy score : 0.9252792224401057\n",
      "\n",
      "test set precision:  0.901421366345713\n",
      "\n",
      "test set recall:  0.9622475283061964\n",
      "\n",
      "test set f1-score:  0.9308418294877056\n"
     ]
    },
    {
     "data": {
      "image/png": "[encoded data removed]",
      "text/plain": [
       "<Figure size 640x480 with 1 Axes>"
      ]
     },
     "metadata": {},
     "output_type": "display_data"
    }
   ],
   "source": [
    "report(gb_model)"
   ]
  },
  {
   "cell_type": "code",
   "execution_count": 42,
   "metadata": {},
   "outputs": [
    {
     "name": "stdout",
     "output_type": "stream",
     "text": [
      "[[26644  1354]\n",
      " [  606 30041]]\n",
      "\n",
      "              precision    recall  f1-score   support\n",
      "\n",
      "           0       0.98      0.95      0.96     27998\n",
      "           1       0.96      0.98      0.97     30647\n",
      "\n",
      "    accuracy                           0.97     58645\n",
      "   macro avg       0.97      0.97      0.97     58645\n",
      "weighted avg       0.97      0.97      0.97     58645\n",
      "\n",
      "\n",
      "roc_auc_score:  0.9659329261927037\n",
      "\n",
      "test set accuracy score : 0.9665785659476511\n",
      "\n",
      "test set precision:  0.9568721133938525\n",
      "\n",
      "test set recall:  0.9802264495709205\n",
      "\n",
      "test set f1-score:  0.9684084974694561\n"
     ]
    },
    {
     "data": {
      "image/png": "[encoded data removed]",
      "text/plain": [
       "<Figure size 640x480 with 1 Axes>"
      ]
     },
     "metadata": {},
     "output_type": "display_data"
    }
   ],
   "source": [
    "report(xgb_model)"
   ]
  },
  {
   "cell_type": "markdown",
   "metadata": {},
   "source": [
    "### Download the model"
   ]
  },
  {
   "cell_type": "code",
   "execution_count": 44,
   "metadata": {},
   "outputs": [
    {
     "data": {
      "text/plain": [
       "['model.joblib']"
      ]
     },
     "execution_count": 44,
     "metadata": {},
     "output_type": "execute_result"
    }
   ],
   "source": [
    "import joblib\n",
    "joblib.dump(rf_model,\"model.joblib\")"
   ]
  },
  {
   "cell_type": "code",
   "execution_count": null,
   "metadata": {},
   "outputs": [],
   "source": []
  }
 ],
 "metadata": {
  "kernelspec": {
   "display_name": "Python 3 (ipykernel)",
   "language": "python",
   "name": "python3"
  },
  "language_info": {
   "codemirror_mode": {
    "name": "ipython",
    "version": 3
   },
   "file_extension": ".py",
   "mimetype": "text/x-python",
   "name": "python",
   "nbconvert_exporter": "python",
   "pygments_lexer": "ipython3",
   "version": "3.8.16"
  },
  "vscode": {
   "interpreter": {
    "hash": "4b81d28864e804b8b8a518e86ccafc3fbb941b9e3dea263cf16c80f4d726f475"
   }
  }
 },
 "nbformat": 4,
 "nbformat_minor": 2
}
